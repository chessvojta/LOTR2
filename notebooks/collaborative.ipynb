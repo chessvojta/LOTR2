{
 "cells": [
  {
   "cell_type": "code",
   "execution_count": 47,
   "outputs": [],
   "source": [
    "import pandas as pd\n",
    "from sklearn.model_selection import train_test_split"
   ],
   "metadata": {
    "collapsed": false,
    "pycharm": {
     "name": "#%%\n"
    }
   }
  },
  {
   "cell_type": "code",
   "execution_count": 48,
   "outputs": [],
   "source": [
    "users = pd.read_csv('../data/BX-Users.csv',encoding='ISO-8859-1',sep= ';')\n",
    "ratings = pd.read_csv('../data/BX-Book-Ratings.csv',encoding='ISO-8859-1',sep= ';')\n",
    "books = pd.read_csv('../data/books.csv')"
   ],
   "metadata": {
    "collapsed": false,
    "pycharm": {
     "name": "#%%\n"
    }
   }
  },
  {
   "cell_type": "code",
   "execution_count": 49,
   "outputs": [
    {
     "data": {
      "text/plain": "   User-ID        ISBN  Book-Rating                 title\n0   276725  034545104X            0  Flesh Tones: A Novel\n1     2313  034545104X            5  Flesh Tones: A Novel\n2     6543  034545104X            0  Flesh Tones: A Novel\n3     8680  034545104X            5  Flesh Tones: A Novel\n4    10314  034545104X            9  Flesh Tones: A Novel",
      "text/html": "<div>\n<style scoped>\n    .dataframe tbody tr th:only-of-type {\n        vertical-align: middle;\n    }\n\n    .dataframe tbody tr th {\n        vertical-align: top;\n    }\n\n    .dataframe thead th {\n        text-align: right;\n    }\n</style>\n<table border=\"1\" class=\"dataframe\">\n  <thead>\n    <tr style=\"text-align: right;\">\n      <th></th>\n      <th>User-ID</th>\n      <th>ISBN</th>\n      <th>Book-Rating</th>\n      <th>title</th>\n    </tr>\n  </thead>\n  <tbody>\n    <tr>\n      <th>0</th>\n      <td>276725</td>\n      <td>034545104X</td>\n      <td>0</td>\n      <td>Flesh Tones: A Novel</td>\n    </tr>\n    <tr>\n      <th>1</th>\n      <td>2313</td>\n      <td>034545104X</td>\n      <td>5</td>\n      <td>Flesh Tones: A Novel</td>\n    </tr>\n    <tr>\n      <th>2</th>\n      <td>6543</td>\n      <td>034545104X</td>\n      <td>0</td>\n      <td>Flesh Tones: A Novel</td>\n    </tr>\n    <tr>\n      <th>3</th>\n      <td>8680</td>\n      <td>034545104X</td>\n      <td>5</td>\n      <td>Flesh Tones: A Novel</td>\n    </tr>\n    <tr>\n      <th>4</th>\n      <td>10314</td>\n      <td>034545104X</td>\n      <td>9</td>\n      <td>Flesh Tones: A Novel</td>\n    </tr>\n  </tbody>\n</table>\n</div>"
     },
     "execution_count": 49,
     "metadata": {},
     "output_type": "execute_result"
    }
   ],
   "source": [
    "df = pd.merge(pd.merge(ratings , users), books)\n",
    "df = df[['User-ID', 'ISBN', 'Book-Rating', 'title']]\n",
    "df.head()"
   ],
   "metadata": {
    "collapsed": false,
    "pycharm": {
     "name": "#%%\n"
    }
   }
  },
  {
   "cell_type": "code",
   "execution_count": 50,
   "outputs": [
    {
     "name": "stdout",
     "output_type": "stream",
     "text": [
      "Statistics before removing 0 ratings\n",
      "462694 ratings\n",
      "59865  users\n",
      "113333  books\n"
     ]
    }
   ],
   "source": [
    "print(\"Statistics before removing 0 ratings\")\n",
    "print(str(df.shape [0]) +\" ratings\")\n",
    "print(df['User-ID'].nunique() ,\" users\")\n",
    "print(df['ISBN'].nunique(), \" books\")"
   ],
   "metadata": {
    "collapsed": false,
    "pycharm": {
     "name": "#%%\n"
    }
   }
  },
  {
   "cell_type": "code",
   "execution_count": 51,
   "outputs": [
    {
     "name": "stdout",
     "output_type": "stream",
     "text": [
      "Statistics after removing 0 ratings\n",
      "179200 ratings\n",
      "43374  users\n",
      "65306  books\n"
     ]
    }
   ],
   "source": [
    "df = df[(df['Book-Rating'] > 0)]\n",
    "print(\"Statistics after removing 0 ratings\")\n",
    "print(str(df.shape [0]) +\" ratings\")\n",
    "print(df['User-ID'].nunique() ,\" users\")\n",
    "print(df['ISBN'].nunique(), \" books\")"
   ],
   "metadata": {
    "collapsed": false,
    "pycharm": {
     "name": "#%%\n"
    }
   }
  },
  {
   "cell_type": "code",
   "execution_count": 52,
   "outputs": [
    {
     "data": {
      "text/plain": "<AxesSubplot:>"
     },
     "execution_count": 52,
     "metadata": {},
     "output_type": "execute_result"
    },
    {
     "data": {
      "text/plain": "<Figure size 432x288 with 1 Axes>",
      "image/png": "[encoded data removed]"
     },
     "metadata": {
      "needs_background": "light"
     },
     "output_type": "display_data"
    }
   ],
   "source": [
    "df['Book-Rating'].hist(bins=9)"
   ],
   "metadata": {
    "collapsed": false,
    "pycharm": {
     "name": "#%%\n"
    }
   }
  },
  {
   "cell_type": "code",
   "execution_count": 53,
   "outputs": [
    {
     "data": {
      "text/plain": "User-ID        0\nISBN           0\nBook-Rating    0\ntitle          0\ndtype: int64"
     },
     "execution_count": 53,
     "metadata": {},
     "output_type": "execute_result"
    }
   ],
   "source": [
    "df.isnull().sum()"
   ],
   "metadata": {
    "collapsed": false,
    "pycharm": {
     "name": "#%%\n"
    }
   }
  },
  {
   "cell_type": "code",
   "execution_count": 54,
   "outputs": [
    {
     "data": {
      "text/plain": "                                                    Book-Rating\ntitle                                                          \nThe Lovely Bones: A Novel                                   707\nWild Animus                                                 581\nThe Da Vinci Code                                           491\nThe Nanny Diaries: A Novel                                  393\nThe Red Tent (Bestselling Backlist)                         383\n...                                                         ...\nBlood Test                                                   11\nHarmful Intent                                               11\nThe Sorcerer's Companion: A Guide to the Magica...           11\nCaptivated (Silhouette Single Title)                         11\nHavana Bay                                                   11\n\n[2102 rows x 1 columns]",
      "text/html": "<div>\n<style scoped>\n    .dataframe tbody tr th:only-of-type {\n        vertical-align: middle;\n    }\n\n    .dataframe tbody tr th {\n        vertical-align: top;\n    }\n\n    .dataframe thead th {\n        text-align: right;\n    }\n</style>\n<table border=\"1\" class=\"dataframe\">\n  <thead>\n    <tr style=\"text-align: right;\">\n      <th></th>\n      <th>Book-Rating</th>\n    </tr>\n    <tr>\n      <th>title</th>\n      <th></th>\n    </tr>\n  </thead>\n  <tbody>\n    <tr>\n      <th>The Lovely Bones: A Novel</th>\n      <td>707</td>\n    </tr>\n    <tr>\n      <th>Wild Animus</th>\n      <td>581</td>\n    </tr>\n    <tr>\n      <th>The Da Vinci Code</th>\n      <td>491</td>\n    </tr>\n    <tr>\n      <th>The Nanny Diaries: A Novel</th>\n      <td>393</td>\n    </tr>\n    <tr>\n      <th>The Red Tent (Bestselling Backlist)</th>\n      <td>383</td>\n    </tr>\n    <tr>\n      <th>...</th>\n      <td>...</td>\n    </tr>\n    <tr>\n      <th>Blood Test</th>\n      <td>11</td>\n    </tr>\n    <tr>\n      <th>Harmful Intent</th>\n      <td>11</td>\n    </tr>\n    <tr>\n      <th>The Sorcerer's Companion: A Guide to the Magical World of Harry Potter</th>\n      <td>11</td>\n    </tr>\n    <tr>\n      <th>Captivated (Silhouette Single Title)</th>\n      <td>11</td>\n    </tr>\n    <tr>\n      <th>Havana Bay</th>\n      <td>11</td>\n    </tr>\n  </tbody>\n</table>\n<p>2102 rows × 1 columns</p>\n</div>"
     },
     "execution_count": 54,
     "metadata": {},
     "output_type": "execute_result"
    }
   ],
   "source": [
    "overview = df.groupby('title')['Book-Rating'].agg('count').sort_values(ascending=False)\n",
    "overview = pd.DataFrame(overview)\n",
    "overview = overview[overview['Book-Rating'] > 10]\n",
    "overview"
   ],
   "metadata": {
    "collapsed": false,
    "pycharm": {
     "name": "#%%\n"
    }
   }
  },
  {
   "cell_type": "code",
   "execution_count": 55,
   "outputs": [
    {
     "data": {
      "text/plain": "(77746, 4)"
     },
     "execution_count": 55,
     "metadata": {},
     "output_type": "execute_result"
    }
   ],
   "source": [
    "df = df[df.title.isin(overview.index.array)]\n",
    "df.shape"
   ],
   "metadata": {
    "collapsed": false,
    "pycharm": {
     "name": "#%%\n"
    }
   }
  },
  {
   "cell_type": "code",
   "execution_count": 56,
   "outputs": [],
   "source": [
    "df_train, df_test = train_test_split(df, test_size=0.01)"
   ],
   "metadata": {
    "collapsed": false,
    "pycharm": {
     "name": "#%%\n"
    }
   }
  },
  {
   "cell_type": "code",
   "execution_count": 57,
   "outputs": [
    {
     "name": "stdout",
     "output_type": "stream",
     "text": [
      "(76968, 4)\n",
      "(778, 4)\n"
     ]
    }
   ],
   "source": [
    "print(df_train.shape)\n",
    "print(df_test.shape)"
   ],
   "metadata": {
    "collapsed": false,
    "pycharm": {
     "name": "#%%\n"
    }
   }
  },
  {
   "cell_type": "code",
   "execution_count": 58,
   "outputs": [
    {
     "data": {
      "text/plain": "title    10 Lb. Penalty  14,000 Things to Be Happy About  1984  \\\nUser-ID                                                          \n9                   0.0                              0.0   0.0   \n16                  0.0                              0.0   0.0   \n17                  0.0                              0.0   0.0   \n19                  0.0                              0.0   0.0   \n26                  0.0                              0.0   0.0   \n\ntitle    1st to Die: A Novel  2010: Odyssey Two  2061: Odyssey Three  253  \\\nUser-ID                                                                     \n9                        0.0                0.0                  0.0  0.0   \n16                       0.0                0.0                  0.0  0.0   \n17                       0.0                0.0                  0.0  0.0   \n19                       0.0                0.0                  0.0  0.0   \n26                       0.0                0.0                  0.0  0.0   \n\ntitle    2nd Chance  4 Blondes  50 Simple Things You Can Do to Save the Earth  \\\nUser-ID                                                                         \n9               0.0        0.0                                            0.0   \n16              0.0        0.0                                            0.0   \n17              0.0        0.0                                            0.0   \n19              0.0        0.0                                            0.0   \n26              0.0        0.0                                            0.0   \n\ntitle    ...  You Shall Know Our Velocity  \\\nUser-ID  ...                                \n9        ...                          0.0   \n16       ...                          0.0   \n17       ...                          0.0   \n19       ...                          0.0   \n26       ...                          0.0   \n\ntitle    You're Only Old Once! : A Book for Obsolete Children  Young Wives  \\\nUser-ID                                                                      \n9                                                      0.0             0.0   \n16                                                     0.0             0.0   \n17                                                     0.0             0.0   \n19                                                     0.0             0.0   \n26                                                     0.0             0.0   \n\ntitle    Yukon Ho!  \\\nUser-ID              \n9              0.0   \n16             0.0   \n17             0.0   \n19             0.0   \n26             0.0   \n\ntitle    Zen and the Art of Motorcycle Maintenance: An Inquiry into Values  \\\nUser-ID                                                                      \n9                                                      0.0                   \n16                                                     0.0                   \n17                                                     0.0                   \n19                                                     0.0                   \n26                                                     0.0                   \n\ntitle    Zodiac: The Eco-Thriller  \\O\\ Is for Outlaw  \\\nUser-ID                                                \n9                             0.0                0.0   \n16                            0.0                0.0   \n17                            0.0                0.0   \n19                            0.0                0.0   \n26                            0.0                0.0   \n\ntitle    \\Surely You're Joking, Mr. Feynman!\\: Adventures of a Curious Character  \\\nUser-ID                                                                            \n9                                                      0.0                         \n16                                                     0.0                         \n17                                                     0.0                         \n19                                                     0.0                         \n26                                                     0.0                         \n\ntitle    iI Paradiso Degli Orchi  stardust  \nUser-ID                                     \n9                            0.0       0.0  \n16                           0.0       0.0  \n17                           0.0       0.0  \n19                           0.0       0.0  \n26                           0.0       0.0  \n\n[5 rows x 2102 columns]",
      "text/html": "<div>\n<style scoped>\n    .dataframe tbody tr th:only-of-type {\n        vertical-align: middle;\n    }\n\n    .dataframe tbody tr th {\n        vertical-align: top;\n    }\n\n    .dataframe thead th {\n        text-align: right;\n    }\n</style>\n<table border=\"1\" class=\"dataframe\">\n  <thead>\n    <tr style=\"text-align: right;\">\n      <th>title</th>\n      <th>10 Lb. Penalty</th>\n      <th>14,000 Things to Be Happy About</th>\n      <th>1984</th>\n      <th>1st to Die: A Novel</th>\n      <th>2010: Odyssey Two</th>\n      <th>2061: Odyssey Three</th>\n      <th>253</th>\n      <th>2nd Chance</th>\n      <th>4 Blondes</th>\n      <th>50 Simple Things You Can Do to Save the Earth</th>\n      <th>...</th>\n      <th>You Shall Know Our Velocity</th>\n      <th>You're Only Old Once! : A Book for Obsolete Children</th>\n      <th>Young Wives</th>\n      <th>Yukon Ho!</th>\n      <th>Zen and the Art of Motorcycle Maintenance: An Inquiry into Values</th>\n      <th>Zodiac: The Eco-Thriller</th>\n      <th>\\O\\ Is for Outlaw</th>\n      <th>\\Surely You're Joking, Mr. Feynman!\\: Adventures of a Curious Character</th>\n      <th>iI Paradiso Degli Orchi</th>\n      <th>stardust</th>\n    </tr>\n    <tr>\n      <th>User-ID</th>\n      <th></th>\n      <th></th>\n      <th></th>\n      <th></th>\n      <th></th>\n      <th></th>\n      <th></th>\n      <th></th>\n      <th></th>\n      <th></th>\n      <th></th>\n      <th></th>\n      <th></th>\n      <th></th>\n      <th></th>\n      <th></th>\n      <th></th>\n      <th></th>\n      <th></th>\n      <th></th>\n      <th></th>\n    </tr>\n  </thead>\n  <tbody>\n    <tr>\n      <th>9</th>\n      <td>0.0</td>\n      <td>0.0</td>\n      <td>0.0</td>\n      <td>0.0</td>\n      <td>0.0</td>\n      <td>0.0</td>\n      <td>0.0</td>\n      <td>0.0</td>\n      <td>0.0</td>\n      <td>0.0</td>\n      <td>...</td>\n      <td>0.0</td>\n      <td>0.0</td>\n      <td>0.0</td>\n      <td>0.0</td>\n      <td>0.0</td>\n      <td>0.0</td>\n      <td>0.0</td>\n      <td>0.0</td>\n      <td>0.0</td>\n      <td>0.0</td>\n    </tr>\n    <tr>\n      <th>16</th>\n      <td>0.0</td>\n      <td>0.0</td>\n      <td>0.0</td>\n      <td>0.0</td>\n      <td>0.0</td>\n      <td>0.0</td>\n      <td>0.0</td>\n      <td>0.0</td>\n      <td>0.0</td>\n      <td>0.0</td>\n      <td>...</td>\n      <td>0.0</td>\n      <td>0.0</td>\n      <td>0.0</td>\n      <td>0.0</td>\n      <td>0.0</td>\n      <td>0.0</td>\n      <td>0.0</td>\n      <td>0.0</td>\n      <td>0.0</td>\n      <td>0.0</td>\n    </tr>\n    <tr>\n      <th>17</th>\n      <td>0.0</td>\n      <td>0.0</td>\n      <td>0.0</td>\n      <td>0.0</td>\n      <td>0.0</td>\n      <td>0.0</td>\n      <td>0.0</td>\n      <td>0.0</td>\n      <td>0.0</td>\n      <td>0.0</td>\n      <td>...</td>\n      <td>0.0</td>\n      <td>0.0</td>\n      <td>0.0</td>\n      <td>0.0</td>\n      <td>0.0</td>\n      <td>0.0</td>\n      <td>0.0</td>\n      <td>0.0</td>\n      <td>0.0</td>\n      <td>0.0</td>\n    </tr>\n    <tr>\n      <th>19</th>\n      <td>0.0</td>\n      <td>0.0</td>\n      <td>0.0</td>\n      <td>0.0</td>\n      <td>0.0</td>\n      <td>0.0</td>\n      <td>0.0</td>\n      <td>0.0</td>\n      <td>0.0</td>\n      <td>0.0</td>\n      <td>...</td>\n      <td>0.0</td>\n      <td>0.0</td>\n      <td>0.0</td>\n      <td>0.0</td>\n      <td>0.0</td>\n      <td>0.0</td>\n      <td>0.0</td>\n      <td>0.0</td>\n      <td>0.0</td>\n      <td>0.0</td>\n    </tr>\n    <tr>\n      <th>26</th>\n      <td>0.0</td>\n      <td>0.0</td>\n      <td>0.0</td>\n      <td>0.0</td>\n      <td>0.0</td>\n      <td>0.0</td>\n      <td>0.0</td>\n      <td>0.0</td>\n      <td>0.0</td>\n      <td>0.0</td>\n      <td>...</td>\n      <td>0.0</td>\n      <td>0.0</td>\n      <td>0.0</td>\n      <td>0.0</td>\n      <td>0.0</td>\n      <td>0.0</td>\n      <td>0.0</td>\n      <td>0.0</td>\n      <td>0.0</td>\n      <td>0.0</td>\n    </tr>\n  </tbody>\n</table>\n<p>5 rows × 2102 columns</p>\n</div>"
     },
     "execution_count": 58,
     "metadata": {},
     "output_type": "execute_result"
    }
   ],
   "source": [
    "matrix = df_train.pivot_table(index=['User-ID'],columns=['title'],values = 'Book-Rating').fillna(0)\n",
    "matrix.head()"
   ],
   "metadata": {
    "collapsed": false,
    "pycharm": {
     "name": "#%%\n"
    }
   }
  },
  {
   "cell_type": "code",
   "execution_count": 59,
   "outputs": [
    {
     "data": {
      "text/plain": "title                            10 Lb. Penalty  \\\ntitle                                             \n10 Lb. Penalty                         1.000000   \n14,000 Things to Be Happy About       -0.000518   \n1984                                  -0.001421   \n1st to Die: A Novel                    0.042413   \n2010: Odyssey Two                     -0.000742   \n\ntitle                            14,000 Things to Be Happy About      1984  \\\ntitle                                                                        \n10 Lb. Penalty                                         -0.000518 -0.001421   \n14,000 Things to Be Happy About                         1.000000 -0.001325   \n1984                                                   -0.001325  1.000000   \n1st to Die: A Novel                                     0.038892  0.013514   \n2010: Odyssey Two                                      -0.000692  0.055930   \n\ntitle                            1st to Die: A Novel  2010: Odyssey Two  \\\ntitle                                                                     \n10 Lb. Penalty                              0.042413          -0.000742   \n14,000 Things to Be Happy About             0.038892          -0.000692   \n1984                                        0.013514           0.055930   \n1st to Die: A Novel                         1.000000           0.005403   \n2010: Odyssey Two                           0.005403           1.000000   \n\ntitle                            2061: Odyssey Three       253  2nd Chance  \\\ntitle                                                                        \n10 Lb. Penalty                              0.025049 -0.000483    0.012489   \n14,000 Things to Be Happy About            -0.000568  0.062967    0.017048   \n1984                                       -0.001560 -0.001237   -0.004272   \n1st to Die: A Novel                        -0.002323  0.018327    0.159308   \n2010: Odyssey Two                           0.131625 -0.000646   -0.002231   \n\ntitle                            4 Blondes  \\\ntitle                                        \n10 Lb. Penalty                   -0.000965   \n14,000 Things to Be Happy About  -0.000899   \n1984                             -0.002467   \n1st to Die: A Novel              -0.003674   \n2010: Odyssey Two                -0.001289   \n\ntitle                            50 Simple Things You Can Do to Save the Earth  \\\ntitle                                                                            \n10 Lb. Penalty                                                       -0.000620   \n14,000 Things to Be Happy About                                      -0.000578   \n1984                                                                 -0.001587   \n1st to Die: A Novel                                                   0.009102   \n2010: Odyssey Two                                                    -0.000829   \n\ntitle                            ...  You Shall Know Our Velocity  \\\ntitle                            ...                                \n10 Lb. Penalty                   ...                    -0.000669   \n14,000 Things to Be Happy About  ...                    -0.000623   \n1984                             ...                     0.014636   \n1st to Die: A Novel              ...                     0.020793   \n2010: Odyssey Two                ...                    -0.000893   \n\ntitle                            You're Only Old Once! : A Book for Obsolete Children  \\\ntitle                                                                                   \n10 Lb. Penalty                                                           -0.000482      \n14,000 Things to Be Happy About                                           0.074174      \n1984                                                                     -0.001234      \n1st to Die: A Novel                                                       0.042990      \n2010: Odyssey Two                                                        -0.000644      \n\ntitle                            Young Wives  Yukon Ho!  \\\ntitle                                                     \n10 Lb. Penalty                     -0.000641  -0.000621   \n14,000 Things to Be Happy About     0.046679   0.052349   \n1984                               -0.001639  -0.001588   \n1st to Die: A Novel                 0.025959   0.026105   \n2010: Odyssey Two                  -0.000856  -0.000829   \n\ntitle                            Zen and the Art of Motorcycle Maintenance: An Inquiry into Values  \\\ntitle                                                                                                \n10 Lb. Penalty                                                           -0.001236                   \n14,000 Things to Be Happy About                                           0.022352                   \n1984                                                                      0.032855                   \n1st to Die: A Novel                                                       0.009528                   \n2010: Odyssey Two                                                         0.032888                   \n\ntitle                            Zodiac: The Eco-Thriller  \\O\\ Is for Outlaw  \\\ntitle                                                                          \n10 Lb. Penalty                                  -0.000639           0.043984   \n14,000 Things to Be Happy About                  0.057836           0.026272   \n1984                                             0.062230          -0.002865   \n1st to Die: A Novel                              0.027161           0.069230   \n2010: Odyssey Two                                0.019182          -0.001496   \n\ntitle                            \\Surely You're Joking, Mr. Feynman!\\: Adventures of a Curious Character  \\\ntitle                                                                                                      \n10 Lb. Penalty                                                           -0.000562                         \n14,000 Things to Be Happy About                                          -0.000524                         \n1984                                                                     -0.001438                         \n1st to Die: A Novel                                                      -0.002141                         \n2010: Odyssey Two                                                        -0.000751                         \n\ntitle                            iI Paradiso Degli Orchi  stardust  \ntitle                                                               \n10 Lb. Penalty                                 -0.000570 -0.000710  \n14,000 Things to Be Happy About                -0.000531  0.044743  \n1984                                           -0.001458  0.024769  \n1st to Die: A Novel                            -0.002171  0.017752  \n2010: Odyssey Two                              -0.000761 -0.000949  \n\n[5 rows x 2102 columns]",
      "text/html": "<div>\n<style scoped>\n    .dataframe tbody tr th:only-of-type {\n        vertical-align: middle;\n    }\n\n    .dataframe tbody tr th {\n        vertical-align: top;\n    }\n\n    .dataframe thead th {\n        text-align: right;\n    }\n</style>\n<table border=\"1\" class=\"dataframe\">\n  <thead>\n    <tr style=\"text-align: right;\">\n      <th>title</th>\n      <th>10 Lb. Penalty</th>\n      <th>14,000 Things to Be Happy About</th>\n      <th>1984</th>\n      <th>1st to Die: A Novel</th>\n      <th>2010: Odyssey Two</th>\n      <th>2061: Odyssey Three</th>\n      <th>253</th>\n      <th>2nd Chance</th>\n      <th>4 Blondes</th>\n      <th>50 Simple Things You Can Do to Save the Earth</th>\n      <th>...</th>\n      <th>You Shall Know Our Velocity</th>\n      <th>You're Only Old Once! : A Book for Obsolete Children</th>\n      <th>Young Wives</th>\n      <th>Yukon Ho!</th>\n      <th>Zen and the Art of Motorcycle Maintenance: An Inquiry into Values</th>\n      <th>Zodiac: The Eco-Thriller</th>\n      <th>\\O\\ Is for Outlaw</th>\n      <th>\\Surely You're Joking, Mr. Feynman!\\: Adventures of a Curious Character</th>\n      <th>iI Paradiso Degli Orchi</th>\n      <th>stardust</th>\n    </tr>\n    <tr>\n      <th>title</th>\n      <th></th>\n      <th></th>\n      <th></th>\n      <th></th>\n      <th></th>\n      <th></th>\n      <th></th>\n      <th></th>\n      <th></th>\n      <th></th>\n      <th></th>\n      <th></th>\n      <th></th>\n      <th></th>\n      <th></th>\n      <th></th>\n      <th></th>\n      <th></th>\n      <th></th>\n      <th></th>\n      <th></th>\n    </tr>\n  </thead>\n  <tbody>\n    <tr>\n      <th>10 Lb. Penalty</th>\n      <td>1.000000</td>\n      <td>-0.000518</td>\n      <td>-0.001421</td>\n      <td>0.042413</td>\n      <td>-0.000742</td>\n      <td>0.025049</td>\n      <td>-0.000483</td>\n      <td>0.012489</td>\n      <td>-0.000965</td>\n      <td>-0.000620</td>\n      <td>...</td>\n      <td>-0.000669</td>\n      <td>-0.000482</td>\n      <td>-0.000641</td>\n      <td>-0.000621</td>\n      <td>-0.001236</td>\n      <td>-0.000639</td>\n      <td>0.043984</td>\n      <td>-0.000562</td>\n      <td>-0.000570</td>\n      <td>-0.000710</td>\n    </tr>\n    <tr>\n      <th>14,000 Things to Be Happy About</th>\n      <td>-0.000518</td>\n      <td>1.000000</td>\n      <td>-0.001325</td>\n      <td>0.038892</td>\n      <td>-0.000692</td>\n      <td>-0.000568</td>\n      <td>0.062967</td>\n      <td>0.017048</td>\n      <td>-0.000899</td>\n      <td>-0.000578</td>\n      <td>...</td>\n      <td>-0.000623</td>\n      <td>0.074174</td>\n      <td>0.046679</td>\n      <td>0.052349</td>\n      <td>0.022352</td>\n      <td>0.057836</td>\n      <td>0.026272</td>\n      <td>-0.000524</td>\n      <td>-0.000531</td>\n      <td>0.044743</td>\n    </tr>\n    <tr>\n      <th>1984</th>\n      <td>-0.001421</td>\n      <td>-0.001325</td>\n      <td>1.000000</td>\n      <td>0.013514</td>\n      <td>0.055930</td>\n      <td>-0.001560</td>\n      <td>-0.001237</td>\n      <td>-0.004272</td>\n      <td>-0.002467</td>\n      <td>-0.001587</td>\n      <td>...</td>\n      <td>0.014636</td>\n      <td>-0.001234</td>\n      <td>-0.001639</td>\n      <td>-0.001588</td>\n      <td>0.032855</td>\n      <td>0.062230</td>\n      <td>-0.002865</td>\n      <td>-0.001438</td>\n      <td>-0.001458</td>\n      <td>0.024769</td>\n    </tr>\n    <tr>\n      <th>1st to Die: A Novel</th>\n      <td>0.042413</td>\n      <td>0.038892</td>\n      <td>0.013514</td>\n      <td>1.000000</td>\n      <td>0.005403</td>\n      <td>-0.002323</td>\n      <td>0.018327</td>\n      <td>0.159308</td>\n      <td>-0.003674</td>\n      <td>0.009102</td>\n      <td>...</td>\n      <td>0.020793</td>\n      <td>0.042990</td>\n      <td>0.025959</td>\n      <td>0.026105</td>\n      <td>0.009528</td>\n      <td>0.027161</td>\n      <td>0.069230</td>\n      <td>-0.002141</td>\n      <td>-0.002171</td>\n      <td>0.017752</td>\n    </tr>\n    <tr>\n      <th>2010: Odyssey Two</th>\n      <td>-0.000742</td>\n      <td>-0.000692</td>\n      <td>0.055930</td>\n      <td>0.005403</td>\n      <td>1.000000</td>\n      <td>0.131625</td>\n      <td>-0.000646</td>\n      <td>-0.002231</td>\n      <td>-0.001289</td>\n      <td>-0.000829</td>\n      <td>...</td>\n      <td>-0.000893</td>\n      <td>-0.000644</td>\n      <td>-0.000856</td>\n      <td>-0.000829</td>\n      <td>0.032888</td>\n      <td>0.019182</td>\n      <td>-0.001496</td>\n      <td>-0.000751</td>\n      <td>-0.000761</td>\n      <td>-0.000949</td>\n    </tr>\n  </tbody>\n</table>\n<p>5 rows × 2102 columns</p>\n</div>"
     },
     "execution_count": 59,
     "metadata": {},
     "output_type": "execute_result"
    }
   ],
   "source": [
    "corr_matrix = matrix.corr(method='pearson')\n",
    "corr_matrix.head()"
   ],
   "metadata": {
    "collapsed": false,
    "pycharm": {
     "name": "#%%\n"
    }
   }
  },
  {
   "cell_type": "code",
   "execution_count": 60,
   "outputs": [],
   "source": [
    "def get_similar(title, rating):\n",
    "    similar_ratings = corr_matrix[title]*(rating-5.5)\n",
    "    similar_ratings = similar_ratings.sort_values(ascending=False)\n",
    "    return similar_ratings"
   ],
   "metadata": {
    "collapsed": false,
    "pycharm": {
     "name": "#%%\n"
    }
   }
  },
  {
   "cell_type": "code",
   "execution_count": 61,
   "outputs": [],
   "source": [
    "def recommend_books(user_rated_books):\n",
    "    similar_books = pd.DataFrame()\n",
    "    for book,rating in user_rated_books:\n",
    "        similar_books = pd.concat([similar_books,get_similar(book,rating).to_frame().T],ignore_index=True)\n",
    "\n",
    "    result = similar_books.mean().sort_values(ascending=False)\n",
    "    return result"
   ],
   "metadata": {
    "collapsed": false,
    "pycharm": {
     "name": "#%%\n"
    }
   }
  },
  {
   "cell_type": "code",
   "execution_count": 62,
   "outputs": [],
   "source": [
    "first_lotr_book = [(\"The Fellowship of the Ring (The Lord of the Rings, Part 1)\",10)]\n",
    "\n",
    "all_lotr_books = [(\"The Fellowship of the Ring (The Lord of the Rings, Part 1)\",10),\n",
    "            (\"The Two Towers (The Lord of the Rings, Part 2)\", 10),\n",
    "            (\"The Return of the King (The Lord of the Rings, Part 3)\",10)]\n"
   ],
   "metadata": {
    "collapsed": false,
    "pycharm": {
     "name": "#%%\n"
    }
   }
  },
  {
   "cell_type": "code",
   "execution_count": 63,
   "outputs": [
    {
     "data": {
      "text/plain": "title\nThe Fellowship of the Ring (The Lord of the Rings, Part 1)                      4.500000\nThe Two Towers (The Lord of the Rings, Part 2)                                  1.720491\nThe Return of the King (The Lord of the Rings, Part 3)                          1.656070\nThe Hobbit : The Enchanting Prelude to The Lord of the Rings                    0.879827\nThe Magic School Bus Lost in the Solar System (Magic School Bus (Paperback))    0.454380\n                                                                                  ...   \nThe Valley of Horses                                                           -0.016094\nHearts In Atlantis                                                             -0.016503\nMemoirs of a Geisha Uk                                                         -0.017981\nWhile I Was Gone                                                               -0.022244\nThe No. 1 Ladies' Detective Agency (Today Show Book Club #8)                   -0.025960\nLength: 2102, dtype: float64"
     },
     "execution_count": 63,
     "metadata": {},
     "output_type": "execute_result"
    }
   ],
   "source": [
    "recommend_books(first_lotr_book)"
   ],
   "metadata": {
    "collapsed": false,
    "pycharm": {
     "name": "#%%\n"
    }
   }
  },
  {
   "cell_type": "code",
   "execution_count": 64,
   "outputs": [
    {
     "data": {
      "text/plain": "title\nThe Two Towers (The Lord of the Rings, Part 2)                       2.909265\nThe Return of the King (The Lord of the Rings, Part 3)               2.887792\nThe Fellowship of the Ring (The Lord of the Rings, Part 1)           2.625520\nThe Hobbit : The Enchanting Prelude to The Lord of the Rings         0.962153\nThe Silmarillion                                                     0.428731\n                                                                       ...   \nSisterhood of the Traveling Pants                                   -0.013178\nWhat to Expect When You're Expecting (Revised Edition)              -0.013303\nBack When We Were Grownups : A Novel (Ballantine Reader's Circle)   -0.013776\nHearts In Atlantis                                                  -0.014403\nWhile I Was Gone                                                    -0.019413\nLength: 2102, dtype: float64"
     },
     "execution_count": 64,
     "metadata": {},
     "output_type": "execute_result"
    }
   ],
   "source": [
    "recommend_books(all_lotr_books)"
   ],
   "metadata": {
    "collapsed": false,
    "pycharm": {
     "name": "#%%\n"
    }
   }
  },
  {
   "cell_type": "code",
   "execution_count": 65,
   "outputs": [
    {
     "data": {
      "text/plain": "(778, 4)"
     },
     "execution_count": 65,
     "metadata": {},
     "output_type": "execute_result"
    }
   ],
   "source": [
    "#Test\n",
    "# zda lze předpovědět review na základě dat v train\n",
    "# user a book musí být v train setu\n",
    "# jen ověřit +-5, korelace není metrika skóre\n",
    "\n",
    "df_test.shape"
   ],
   "metadata": {
    "collapsed": false,
    "pycharm": {
     "name": "#%%\n"
    }
   }
  },
  {
   "cell_type": "code",
   "execution_count": 66,
   "outputs": [
    {
     "data": {
      "text/plain": "(606, 4)"
     },
     "execution_count": 66,
     "metadata": {},
     "output_type": "execute_result"
    }
   ],
   "source": [
    "df_test1 = df_test[(df_test['User-ID'].isin(df_train['User-ID']))]\n",
    "df_test2 = df_test1[(df_test1['ISBN'].isin(df_train['ISBN']))]\n",
    "df_test2.shape"
   ],
   "metadata": {
    "collapsed": false,
    "pycharm": {
     "name": "#%%\n"
    }
   }
  },
  {
   "cell_type": "code",
   "execution_count": 67,
   "outputs": [],
   "source": [
    "def predict_rating(user_id,title):\n",
    "    user_ratings = []\n",
    "    user_ratings_df = df_train[df_train['User-ID'] == user_id][['title','Book-Rating']]\n",
    "    for index, row in user_ratings_df.iterrows():\n",
    "        user_ratings.append((row['title'],row['Book-Rating']))\n",
    "    return recommend_books(user_ratings)[title]"
   ],
   "metadata": {
    "collapsed": false,
    "pycharm": {
     "name": "#%%\n"
    }
   }
  },
  {
   "cell_type": "code",
   "execution_count": 68,
   "outputs": [
    {
     "name": "stderr",
     "output_type": "stream",
     "text": [
      "C:\\Users\\chess\\AppData\\Local\\Temp\\ipykernel_10072\\2691305919.py:1: SettingWithCopyWarning: \n",
      "A value is trying to be set on a copy of a slice from a DataFrame.\n",
      "Try using .loc[row_indexer,col_indexer] = value instead\n",
      "\n",
      "See the caveats in the documentation: https://pandas.pydata.org/pandas-docs/stable/user_guide/indexing.html#returning-a-view-versus-a-copy\n",
      "  df_test2['Prediction'] = df_test2.apply(lambda x: predict_rating(x['User-ID'], x['title']), axis=1)\n"
     ]
    },
    {
     "data": {
      "text/plain": "        User-ID        ISBN  Book-Rating  \\\n23976    209186  0345443284            8   \n286846   116758  0743464451            8   \n71370     58792  044661162X            8   \n167298   138543  0451149513            9   \n12515    196886  0446605484            9   \n...         ...         ...          ...   \n146378   166409  0553585118            7   \n3750      13995  0316666343            8   \n120901   123649  0060917016            7   \n73686    220278  0671568175            9   \n182262    95301  1558746161           10   \n\n                                                    title  Prediction  \n23976                                    While I Was Gone    0.026050  \n286846                                    The Song Reader    0.037317  \n71370                                    Chasing the Dime    0.139724  \n167298                                                 It    0.061929  \n12515                   Roses Are Red (Alex Cross Novels)    0.193992  \n...                                                   ...         ...  \n146378                                       Once a Thief    0.038933  \n3750                            The Lovely Bones: A Novel    0.065453  \n120901                         Homeland and Other Stories    0.037317  \n73686                          Let Me Call You Sweetheart    0.046528  \n182262  Chicken Soup for the Teenage Soul II (Chicken ...    0.460902  \n\n[606 rows x 5 columns]",
      "text/html": "<div>\n<style scoped>\n    .dataframe tbody tr th:only-of-type {\n        vertical-align: middle;\n    }\n\n    .dataframe tbody tr th {\n        vertical-align: top;\n    }\n\n    .dataframe thead th {\n        text-align: right;\n    }\n</style>\n<table border=\"1\" class=\"dataframe\">\n  <thead>\n    <tr style=\"text-align: right;\">\n      <th></th>\n      <th>User-ID</th>\n      <th>ISBN</th>\n      <th>Book-Rating</th>\n      <th>title</th>\n      <th>Prediction</th>\n    </tr>\n  </thead>\n  <tbody>\n    <tr>\n      <th>23976</th>\n      <td>209186</td>\n      <td>0345443284</td>\n      <td>8</td>\n      <td>While I Was Gone</td>\n      <td>0.026050</td>\n    </tr>\n    <tr>\n      <th>286846</th>\n      <td>116758</td>\n      <td>0743464451</td>\n      <td>8</td>\n      <td>The Song Reader</td>\n      <td>0.037317</td>\n    </tr>\n    <tr>\n      <th>71370</th>\n      <td>58792</td>\n      <td>044661162X</td>\n      <td>8</td>\n      <td>Chasing the Dime</td>\n      <td>0.139724</td>\n    </tr>\n    <tr>\n      <th>167298</th>\n      <td>138543</td>\n      <td>0451149513</td>\n      <td>9</td>\n      <td>It</td>\n      <td>0.061929</td>\n    </tr>\n    <tr>\n      <th>12515</th>\n      <td>196886</td>\n      <td>0446605484</td>\n      <td>9</td>\n      <td>Roses Are Red (Alex Cross Novels)</td>\n      <td>0.193992</td>\n    </tr>\n    <tr>\n      <th>...</th>\n      <td>...</td>\n      <td>...</td>\n      <td>...</td>\n      <td>...</td>\n      <td>...</td>\n    </tr>\n    <tr>\n      <th>146378</th>\n      <td>166409</td>\n      <td>0553585118</td>\n      <td>7</td>\n      <td>Once a Thief</td>\n      <td>0.038933</td>\n    </tr>\n    <tr>\n      <th>3750</th>\n      <td>13995</td>\n      <td>0316666343</td>\n      <td>8</td>\n      <td>The Lovely Bones: A Novel</td>\n      <td>0.065453</td>\n    </tr>\n    <tr>\n      <th>120901</th>\n      <td>123649</td>\n      <td>0060917016</td>\n      <td>7</td>\n      <td>Homeland and Other Stories</td>\n      <td>0.037317</td>\n    </tr>\n    <tr>\n      <th>73686</th>\n      <td>220278</td>\n      <td>0671568175</td>\n      <td>9</td>\n      <td>Let Me Call You Sweetheart</td>\n      <td>0.046528</td>\n    </tr>\n    <tr>\n      <th>182262</th>\n      <td>95301</td>\n      <td>1558746161</td>\n      <td>10</td>\n      <td>Chicken Soup for the Teenage Soul II (Chicken ...</td>\n      <td>0.460902</td>\n    </tr>\n  </tbody>\n</table>\n<p>606 rows × 5 columns</p>\n</div>"
     },
     "execution_count": 68,
     "metadata": {},
     "output_type": "execute_result"
    }
   ],
   "source": [
    "df_test2['Prediction'] = df_test2.apply(lambda x: predict_rating(x['User-ID'], x['title']), axis=1)\n",
    "df_test2"
   ],
   "metadata": {
    "collapsed": false,
    "pycharm": {
     "name": "#%%\n"
    }
   }
  },
  {
   "cell_type": "code",
   "execution_count": 72,
   "outputs": [
    {
     "data": {
      "text/plain": "(-0.2, 0.6)"
     },
     "execution_count": 72,
     "metadata": {},
     "output_type": "execute_result"
    },
    {
     "data": {
      "text/plain": "<Figure size 432x288 with 1 Axes>",
      "image/png": "[encoded data removed]"
     },
     "metadata": {
      "needs_background": "light"
     },
     "output_type": "display_data"
    }
   ],
   "source": [
    "mypplot = df_test2.plot.scatter(x='Prediction',y='Book-Rating')\n",
    "mypplot.set_xlim([-0.2, 0.6])"
   ],
   "metadata": {
    "collapsed": false,
    "pycharm": {
     "name": "#%%\n"
    }
   }
  },
  {
   "cell_type": "code",
   "execution_count": null,
   "outputs": [],
   "source": [],
   "metadata": {
    "collapsed": false,
    "pycharm": {
     "name": "#%%\n"
    }
   }
  }
 ],
 "metadata": {
  "kernelspec": {
   "display_name": "Python 3",
   "language": "python",
   "name": "python3"
  },
  "language_info": {
   "codemirror_mode": {
    "name": "ipython",
    "version": 2
   },
   "file_extension": ".py",
   "mimetype": "text/x-python",
   "name": "python",
   "nbconvert_exporter": "python",
   "pygments_lexer": "ipython2",
   "version": "2.7.6"
  }
 },
 "nbformat": 4,
 "nbformat_minor": 0
}