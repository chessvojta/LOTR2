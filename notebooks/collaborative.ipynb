{
 "cells": [
  {
   "cell_type": "markdown",
   "source": [
    "# Collaborative filtering\n",
    "The idea is to build an item-based CF recommender. This method uses ratings of all users to determine similarity between books and then recommends the most similar books to the ones the user liked."
   ],
   "metadata": {
    "collapsed": false,
    "pycharm": {
     "name": "#%% md\n"
    }
   }
  },
  {
   "cell_type": "code",
   "execution_count": 1,
   "outputs": [],
   "source": [
    "import pandas as pd\n",
    "from sklearn.model_selection import train_test_split"
   ],
   "metadata": {
    "collapsed": false,
    "pycharm": {
     "name": "#%%\n"
    }
   }
  },
  {
   "cell_type": "code",
   "execution_count": 2,
   "outputs": [],
   "source": [
    "users = pd.read_csv('../data/BX-Users.csv',encoding='ISO-8859-1',sep= ';')\n",
    "ratings = pd.read_csv('../data/BX-Book-Ratings.csv',encoding='ISO-8859-1',sep= ';')\n",
    "books = pd.read_csv('../data/books.csv')"
   ],
   "metadata": {
    "collapsed": false,
    "pycharm": {
     "name": "#%%\n"
    }
   }
  },
  {
   "cell_type": "code",
   "execution_count": 3,
   "outputs": [
    {
     "data": {
      "text/plain": "   User-ID        ISBN  Book-Rating                 title\n0   276725  034545104X            0  Flesh Tones: A Novel\n1     2313  034545104X            5  Flesh Tones: A Novel\n2     6543  034545104X            0  Flesh Tones: A Novel\n3     8680  034545104X            5  Flesh Tones: A Novel\n4    10314  034545104X            9  Flesh Tones: A Novel",
      "text/html": "<div>\n<style scoped>\n    .dataframe tbody tr th:only-of-type {\n        vertical-align: middle;\n    }\n\n    .dataframe tbody tr th {\n        vertical-align: top;\n    }\n\n    .dataframe thead th {\n        text-align: right;\n    }\n</style>\n<table border=\"1\" class=\"dataframe\">\n  <thead>\n    <tr style=\"text-align: right;\">\n      <th></th>\n      <th>User-ID</th>\n      <th>ISBN</th>\n      <th>Book-Rating</th>\n      <th>title</th>\n    </tr>\n  </thead>\n  <tbody>\n    <tr>\n      <th>0</th>\n      <td>276725</td>\n      <td>034545104X</td>\n      <td>0</td>\n      <td>Flesh Tones: A Novel</td>\n    </tr>\n    <tr>\n      <th>1</th>\n      <td>2313</td>\n      <td>034545104X</td>\n      <td>5</td>\n      <td>Flesh Tones: A Novel</td>\n    </tr>\n    <tr>\n      <th>2</th>\n      <td>6543</td>\n      <td>034545104X</td>\n      <td>0</td>\n      <td>Flesh Tones: A Novel</td>\n    </tr>\n    <tr>\n      <th>3</th>\n      <td>8680</td>\n      <td>034545104X</td>\n      <td>5</td>\n      <td>Flesh Tones: A Novel</td>\n    </tr>\n    <tr>\n      <th>4</th>\n      <td>10314</td>\n      <td>034545104X</td>\n      <td>9</td>\n      <td>Flesh Tones: A Novel</td>\n    </tr>\n  </tbody>\n</table>\n</div>"
     },
     "execution_count": 3,
     "metadata": {},
     "output_type": "execute_result"
    }
   ],
   "source": [
    "df = pd.merge(pd.merge(ratings , users), books)\n",
    "df = df[['User-ID', 'ISBN', 'Book-Rating', 'title']]\n",
    "df.head()"
   ],
   "metadata": {
    "collapsed": false,
    "pycharm": {
     "name": "#%%\n"
    }
   }
  },
  {
   "cell_type": "markdown",
   "source": [],
   "metadata": {
    "collapsed": false,
    "pycharm": {
     "name": "#%% md\n"
    }
   }
  },
  {
   "cell_type": "markdown",
   "source": [
    "The data is loaded into one pandas dataframe, that contains ratings, the user ID and the book ISBN and title. Firstly, it is needed to remove all the implicit (0) ratings from the dataset. This unfortunately removes a large subset of data, however, for the method used, it is needed to have the valid ratings."
   ],
   "metadata": {
    "collapsed": false,
    "pycharm": {
     "name": "#%% md\n"
    }
   }
  },
  {
   "cell_type": "code",
   "execution_count": 4,
   "outputs": [
    {
     "name": "stdout",
     "output_type": "stream",
     "text": [
      "Statistics before removing 0 ratings\n",
      "462694 ratings\n",
      "59865  users\n",
      "113333  books\n"
     ]
    }
   ],
   "source": [
    "print(\"Statistics before removing 0 ratings\")\n",
    "print(str(df.shape [0]) +\" ratings\")\n",
    "print(df['User-ID'].nunique() ,\" users\")\n",
    "print(df['ISBN'].nunique(), \" books\")"
   ],
   "metadata": {
    "collapsed": false,
    "pycharm": {
     "name": "#%%\n"
    }
   }
  },
  {
   "cell_type": "code",
   "execution_count": 5,
   "outputs": [
    {
     "name": "stdout",
     "output_type": "stream",
     "text": [
      "Statistics after removing 0 ratings\n",
      "179200 ratings\n",
      "43374  users\n",
      "65306  books\n"
     ]
    }
   ],
   "source": [
    "df = df[(df['Book-Rating'] > 0)]\n",
    "print(\"Statistics after removing 0 ratings\")\n",
    "print(str(df.shape [0]) +\" ratings\")\n",
    "print(df['User-ID'].nunique() ,\" users\")\n",
    "print(df['ISBN'].nunique(), \" books\")"
   ],
   "metadata": {
    "collapsed": false,
    "pycharm": {
     "name": "#%%\n"
    }
   }
  },
  {
   "cell_type": "code",
   "execution_count": 6,
   "outputs": [
    {
     "data": {
      "text/plain": "<AxesSubplot:>"
     },
     "execution_count": 6,
     "metadata": {},
     "output_type": "execute_result"
    },
    {
     "data": {
      "text/plain": "<Figure size 432x288 with 1 Axes>",
      "image/png": "[encoded data removed]"
     },
     "metadata": {
      "needs_background": "light"
     },
     "output_type": "display_data"
    }
   ],
   "source": [
    "df['Book-Rating'].hist(bins=9)"
   ],
   "metadata": {
    "collapsed": false,
    "pycharm": {
     "name": "#%%\n"
    }
   }
  },
  {
   "cell_type": "code",
   "execution_count": 7,
   "outputs": [
    {
     "data": {
      "text/plain": "User-ID        0\nISBN           0\nBook-Rating    0\ntitle          0\ndtype: int64"
     },
     "execution_count": 7,
     "metadata": {},
     "output_type": "execute_result"
    }
   ],
   "source": [
    "df.isnull().sum()"
   ],
   "metadata": {
    "collapsed": false,
    "pycharm": {
     "name": "#%%\n"
    }
   }
  },
  {
   "cell_type": "markdown",
   "source": [
    "Now that we have a valid dataset, we need to define a threshold of number of ratings in order to remove book with few ratings. This removes books with low popularity and simplifies the calculation as it reduces the dataset size. At the moment, only books with >10 ratings are considered."
   ],
   "metadata": {
    "collapsed": false,
    "pycharm": {
     "name": "#%% md\n"
    }
   }
  },
  {
   "cell_type": "code",
   "execution_count": 8,
   "outputs": [
    {
     "data": {
      "text/plain": "                                                    Book-Rating\ntitle                                                          \nThe Lovely Bones: A Novel                                   707\nWild Animus                                                 581\nThe Da Vinci Code                                           491\nThe Nanny Diaries: A Novel                                  393\nThe Red Tent (Bestselling Backlist)                         383\n...                                                         ...\nBlood Test                                                   11\nHarmful Intent                                               11\nThe Sorcerer's Companion: A Guide to the Magica...           11\nCaptivated (Silhouette Single Title)                         11\nHavana Bay                                                   11\n\n[2102 rows x 1 columns]",
      "text/html": "<div>\n<style scoped>\n    .dataframe tbody tr th:only-of-type {\n        vertical-align: middle;\n    }\n\n    .dataframe tbody tr th {\n        vertical-align: top;\n    }\n\n    .dataframe thead th {\n        text-align: right;\n    }\n</style>\n<table border=\"1\" class=\"dataframe\">\n  <thead>\n    <tr style=\"text-align: right;\">\n      <th></th>\n      <th>Book-Rating</th>\n    </tr>\n    <tr>\n      <th>title</th>\n      <th></th>\n    </tr>\n  </thead>\n  <tbody>\n    <tr>\n      <th>The Lovely Bones: A Novel</th>\n      <td>707</td>\n    </tr>\n    <tr>\n      <th>Wild Animus</th>\n      <td>581</td>\n    </tr>\n    <tr>\n      <th>The Da Vinci Code</th>\n      <td>491</td>\n    </tr>\n    <tr>\n      <th>The Nanny Diaries: A Novel</th>\n      <td>393</td>\n    </tr>\n    <tr>\n      <th>The Red Tent (Bestselling Backlist)</th>\n      <td>383</td>\n    </tr>\n    <tr>\n      <th>...</th>\n      <td>...</td>\n    </tr>\n    <tr>\n      <th>Blood Test</th>\n      <td>11</td>\n    </tr>\n    <tr>\n      <th>Harmful Intent</th>\n      <td>11</td>\n    </tr>\n    <tr>\n      <th>The Sorcerer's Companion: A Guide to the Magical World of Harry Potter</th>\n      <td>11</td>\n    </tr>\n    <tr>\n      <th>Captivated (Silhouette Single Title)</th>\n      <td>11</td>\n    </tr>\n    <tr>\n      <th>Havana Bay</th>\n      <td>11</td>\n    </tr>\n  </tbody>\n</table>\n<p>2102 rows × 1 columns</p>\n</div>"
     },
     "execution_count": 8,
     "metadata": {},
     "output_type": "execute_result"
    }
   ],
   "source": [
    "overview = df.groupby('title')['Book-Rating'].agg('count').sort_values(ascending=False)\n",
    "overview = pd.DataFrame(overview)\n",
    "overview = overview[overview['Book-Rating'] > 10]\n",
    "overview"
   ],
   "metadata": {
    "collapsed": false,
    "pycharm": {
     "name": "#%%\n"
    }
   }
  },
  {
   "cell_type": "code",
   "execution_count": 9,
   "outputs": [
    {
     "data": {
      "text/plain": "(77746, 4)"
     },
     "execution_count": 9,
     "metadata": {},
     "output_type": "execute_result"
    }
   ],
   "source": [
    "df = df[df.title.isin(overview.index.array)]\n",
    "df.shape"
   ],
   "metadata": {
    "collapsed": false,
    "pycharm": {
     "name": "#%%\n"
    }
   }
  },
  {
   "cell_type": "markdown",
   "source": [
    "For the recommender validation, 1% of ratings is moved to the testing dataframe."
   ],
   "metadata": {
    "collapsed": false,
    "pycharm": {
     "name": "#%% md\n"
    }
   }
  },
  {
   "cell_type": "code",
   "execution_count": 10,
   "outputs": [],
   "source": [
    "df_train, df_test = train_test_split(df, test_size=0.01, random_state=1)"
   ],
   "metadata": {
    "collapsed": false,
    "pycharm": {
     "name": "#%%\n"
    }
   }
  },
  {
   "cell_type": "code",
   "execution_count": 11,
   "outputs": [
    {
     "name": "stdout",
     "output_type": "stream",
     "text": [
      "(76968, 4)\n",
      "(778, 4)\n"
     ]
    }
   ],
   "source": [
    "print(df_train.shape)\n",
    "print(df_test.shape)"
   ],
   "metadata": {
    "collapsed": false,
    "pycharm": {
     "name": "#%%\n"
    }
   }
  },
  {
   "cell_type": "markdown",
   "source": [
    "From the train dataset we build a matrix of ratings. The method requires NaN values to be filled with zeros."
   ],
   "metadata": {
    "collapsed": false,
    "pycharm": {
     "name": "#%% md\n"
    }
   }
  },
  {
   "cell_type": "code",
   "execution_count": 12,
   "outputs": [
    {
     "data": {
      "text/plain": "title    10 Lb. Penalty  14,000 Things to Be Happy About  1984  \\\nUser-ID                                                          \n9                   0.0                              0.0   0.0   \n16                  0.0                              0.0   0.0   \n17                  0.0                              0.0   0.0   \n19                  0.0                              0.0   0.0   \n26                  0.0                              0.0   0.0   \n\ntitle    1st to Die: A Novel  2010: Odyssey Two  2061: Odyssey Three  253  \\\nUser-ID                                                                     \n9                        0.0                0.0                  0.0  0.0   \n16                       0.0                0.0                  0.0  0.0   \n17                       0.0                0.0                  0.0  0.0   \n19                       0.0                0.0                  0.0  0.0   \n26                       0.0                0.0                  0.0  0.0   \n\ntitle    2nd Chance  4 Blondes  50 Simple Things You Can Do to Save the Earth  \\\nUser-ID                                                                         \n9               0.0        0.0                                            0.0   \n16              0.0        0.0                                            0.0   \n17              0.0        0.0                                            0.0   \n19              0.0        0.0                                            0.0   \n26              0.0        0.0                                            0.0   \n\ntitle    ...  You Shall Know Our Velocity  \\\nUser-ID  ...                                \n9        ...                          0.0   \n16       ...                          0.0   \n17       ...                          0.0   \n19       ...                          0.0   \n26       ...                          0.0   \n\ntitle    You're Only Old Once! : A Book for Obsolete Children  Young Wives  \\\nUser-ID                                                                      \n9                                                      0.0             0.0   \n16                                                     0.0             0.0   \n17                                                     0.0             0.0   \n19                                                     0.0             0.0   \n26                                                     0.0             0.0   \n\ntitle    Yukon Ho!  \\\nUser-ID              \n9              0.0   \n16             0.0   \n17             0.0   \n19             0.0   \n26             0.0   \n\ntitle    Zen and the Art of Motorcycle Maintenance: An Inquiry into Values  \\\nUser-ID                                                                      \n9                                                      0.0                   \n16                                                     0.0                   \n17                                                     0.0                   \n19                                                     0.0                   \n26                                                     0.0                   \n\ntitle    Zodiac: The Eco-Thriller  \\O\\ Is for Outlaw  \\\nUser-ID                                                \n9                             0.0                0.0   \n16                            0.0                0.0   \n17                            0.0                0.0   \n19                            0.0                0.0   \n26                            0.0                0.0   \n\ntitle    \\Surely You're Joking, Mr. Feynman!\\: Adventures of a Curious Character  \\\nUser-ID                                                                            \n9                                                      0.0                         \n16                                                     0.0                         \n17                                                     0.0                         \n19                                                     0.0                         \n26                                                     0.0                         \n\ntitle    iI Paradiso Degli Orchi  stardust  \nUser-ID                                     \n9                            0.0       0.0  \n16                           0.0       0.0  \n17                           0.0       0.0  \n19                           0.0       0.0  \n26                           0.0       0.0  \n\n[5 rows x 2102 columns]",
      "text/html": "<div>\n<style scoped>\n    .dataframe tbody tr th:only-of-type {\n        vertical-align: middle;\n    }\n\n    .dataframe tbody tr th {\n        vertical-align: top;\n    }\n\n    .dataframe thead th {\n        text-align: right;\n    }\n</style>\n<table border=\"1\" class=\"dataframe\">\n  <thead>\n    <tr style=\"text-align: right;\">\n      <th>title</th>\n      <th>10 Lb. Penalty</th>\n      <th>14,000 Things to Be Happy About</th>\n      <th>1984</th>\n      <th>1st to Die: A Novel</th>\n      <th>2010: Odyssey Two</th>\n      <th>2061: Odyssey Three</th>\n      <th>253</th>\n      <th>2nd Chance</th>\n      <th>4 Blondes</th>\n      <th>50 Simple Things You Can Do to Save the Earth</th>\n      <th>...</th>\n      <th>You Shall Know Our Velocity</th>\n      <th>You're Only Old Once! : A Book for Obsolete Children</th>\n      <th>Young Wives</th>\n      <th>Yukon Ho!</th>\n      <th>Zen and the Art of Motorcycle Maintenance: An Inquiry into Values</th>\n      <th>Zodiac: The Eco-Thriller</th>\n      <th>\\O\\ Is for Outlaw</th>\n      <th>\\Surely You're Joking, Mr. Feynman!\\: Adventures of a Curious Character</th>\n      <th>iI Paradiso Degli Orchi</th>\n      <th>stardust</th>\n    </tr>\n    <tr>\n      <th>User-ID</th>\n      <th></th>\n      <th></th>\n      <th></th>\n      <th></th>\n      <th></th>\n      <th></th>\n      <th></th>\n      <th></th>\n      <th></th>\n      <th></th>\n      <th></th>\n      <th></th>\n      <th></th>\n      <th></th>\n      <th></th>\n      <th></th>\n      <th></th>\n      <th></th>\n      <th></th>\n      <th></th>\n      <th></th>\n    </tr>\n  </thead>\n  <tbody>\n    <tr>\n      <th>9</th>\n      <td>0.0</td>\n      <td>0.0</td>\n      <td>0.0</td>\n      <td>0.0</td>\n      <td>0.0</td>\n      <td>0.0</td>\n      <td>0.0</td>\n      <td>0.0</td>\n      <td>0.0</td>\n      <td>0.0</td>\n      <td>...</td>\n      <td>0.0</td>\n      <td>0.0</td>\n      <td>0.0</td>\n      <td>0.0</td>\n      <td>0.0</td>\n      <td>0.0</td>\n      <td>0.0</td>\n      <td>0.0</td>\n      <td>0.0</td>\n      <td>0.0</td>\n    </tr>\n    <tr>\n      <th>16</th>\n      <td>0.0</td>\n      <td>0.0</td>\n      <td>0.0</td>\n      <td>0.0</td>\n      <td>0.0</td>\n      <td>0.0</td>\n      <td>0.0</td>\n      <td>0.0</td>\n      <td>0.0</td>\n      <td>0.0</td>\n      <td>...</td>\n      <td>0.0</td>\n      <td>0.0</td>\n      <td>0.0</td>\n      <td>0.0</td>\n      <td>0.0</td>\n      <td>0.0</td>\n      <td>0.0</td>\n      <td>0.0</td>\n      <td>0.0</td>\n      <td>0.0</td>\n    </tr>\n    <tr>\n      <th>17</th>\n      <td>0.0</td>\n      <td>0.0</td>\n      <td>0.0</td>\n      <td>0.0</td>\n      <td>0.0</td>\n      <td>0.0</td>\n      <td>0.0</td>\n      <td>0.0</td>\n      <td>0.0</td>\n      <td>0.0</td>\n      <td>...</td>\n      <td>0.0</td>\n      <td>0.0</td>\n      <td>0.0</td>\n      <td>0.0</td>\n      <td>0.0</td>\n      <td>0.0</td>\n      <td>0.0</td>\n      <td>0.0</td>\n      <td>0.0</td>\n      <td>0.0</td>\n    </tr>\n    <tr>\n      <th>19</th>\n      <td>0.0</td>\n      <td>0.0</td>\n      <td>0.0</td>\n      <td>0.0</td>\n      <td>0.0</td>\n      <td>0.0</td>\n      <td>0.0</td>\n      <td>0.0</td>\n      <td>0.0</td>\n      <td>0.0</td>\n      <td>...</td>\n      <td>0.0</td>\n      <td>0.0</td>\n      <td>0.0</td>\n      <td>0.0</td>\n      <td>0.0</td>\n      <td>0.0</td>\n      <td>0.0</td>\n      <td>0.0</td>\n      <td>0.0</td>\n      <td>0.0</td>\n    </tr>\n    <tr>\n      <th>26</th>\n      <td>0.0</td>\n      <td>0.0</td>\n      <td>0.0</td>\n      <td>0.0</td>\n      <td>0.0</td>\n      <td>0.0</td>\n      <td>0.0</td>\n      <td>0.0</td>\n      <td>0.0</td>\n      <td>0.0</td>\n      <td>...</td>\n      <td>0.0</td>\n      <td>0.0</td>\n      <td>0.0</td>\n      <td>0.0</td>\n      <td>0.0</td>\n      <td>0.0</td>\n      <td>0.0</td>\n      <td>0.0</td>\n      <td>0.0</td>\n      <td>0.0</td>\n    </tr>\n  </tbody>\n</table>\n<p>5 rows × 2102 columns</p>\n</div>"
     },
     "execution_count": 12,
     "metadata": {},
     "output_type": "execute_result"
    }
   ],
   "source": [
    "matrix = df_train.pivot_table(index=['User-ID'],columns=['title'],values = 'Book-Rating').fillna(0)\n",
    "matrix.head()"
   ],
   "metadata": {
    "collapsed": false,
    "pycharm": {
     "name": "#%%\n"
    }
   }
  },
  {
   "cell_type": "markdown",
   "source": [
    "Next we build the item-item similarity matrix. The similarity function used is the pearson correlation, the similarity between items is thus expressed in correlation coefficient."
   ],
   "metadata": {
    "collapsed": false,
    "pycharm": {
     "name": "#%% md\n"
    }
   }
  },
  {
   "cell_type": "code",
   "execution_count": 13,
   "outputs": [
    {
     "data": {
      "text/plain": "title                            10 Lb. Penalty  \\\ntitle                                             \n10 Lb. Penalty                         1.000000   \n14,000 Things to Be Happy About       -0.000518   \n1984                                  -0.001422   \n1st to Die: A Novel                    0.042179   \n2010: Odyssey Two                     -0.000743   \n\ntitle                            14,000 Things to Be Happy About      1984  \\\ntitle                                                                        \n10 Lb. Penalty                                         -0.000518 -0.001422   \n14,000 Things to Be Happy About                         1.000000 -0.001326   \n1984                                                   -0.001326  1.000000   \n1st to Die: A Novel                                     0.038677  0.013391   \n2010: Odyssey Two                                      -0.000692  0.055929   \n\ntitle                            1st to Die: A Novel  2010: Odyssey Two  \\\ntitle                                                                     \n10 Lb. Penalty                              0.042179          -0.000743   \n14,000 Things to Be Happy About             0.038677          -0.000692   \n1984                                        0.013391           0.055929   \n1st to Die: A Novel                         1.000000           0.005347   \n2010: Odyssey Two                           0.005347           1.000000   \n\ntitle                            2061: Odyssey Three       253  2nd Chance  \\\ntitle                                                                        \n10 Lb. Penalty                              0.025049 -0.000484    0.012696   \n14,000 Things to Be Happy About            -0.000569  0.062967    0.017314   \n1984                                       -0.001561 -0.001238   -0.004230   \n1st to Die: A Novel                        -0.002335  0.018216    0.160733   \n2010: Odyssey Two                           0.131624 -0.000646   -0.002209   \n\ntitle                            4 Blondes  \\\ntitle                                        \n10 Lb. Penalty                   -0.000965   \n14,000 Things to Be Happy About  -0.000900   \n1984                             -0.002469   \n1st to Die: A Novel              -0.003693   \n2010: Odyssey Two                -0.001290   \n\ntitle                            50 Simple Things You Can Do to Save the Earth  \\\ntitle                                                                            \n10 Lb. Penalty                                                       -0.000605   \n14,000 Things to Be Happy About                                      -0.000564   \n1984                                                                 -0.001549   \n1st to Die: A Novel                                                   0.009560   \n2010: Odyssey Two                                                    -0.000809   \n\ntitle                            ...  You Shall Know Our Velocity  \\\ntitle                            ...                                \n10 Lb. Penalty                   ...                    -0.000669   \n14,000 Things to Be Happy About  ...                    -0.000624   \n1984                             ...                     0.014634   \n1st to Die: A Novel              ...                     0.020663   \n2010: Odyssey Two                ...                    -0.000894   \n\ntitle                            You're Only Old Once! : A Book for Obsolete Children  \\\ntitle                                                                                   \n10 Lb. Penalty                                                           -0.000483      \n14,000 Things to Be Happy About                                           0.074173      \n1984                                                                     -0.001235      \n1st to Die: A Novel                                                       0.042756      \n2010: Odyssey Two                                                        -0.000645      \n\ntitle                            Young Wives  Yukon Ho!  \\\ntitle                                                     \n10 Lb. Penalty                     -0.000641  -0.000621   \n14,000 Things to Be Happy About     0.046679   0.052348   \n1984                               -0.001640  -0.001589   \n1st to Die: A Novel                 0.025804   0.025950   \n2010: Odyssey Two                  -0.000857  -0.000830   \n\ntitle                            Zen and the Art of Motorcycle Maintenance: An Inquiry into Values  \\\ntitle                                                                                                \n10 Lb. Penalty                                                           -0.001237                   \n14,000 Things to Be Happy About                                           0.022351                   \n1984                                                                      0.032853                   \n1st to Die: A Novel                                                       0.009433                   \n2010: Odyssey Two                                                         0.032887                   \n\ntitle                            Zodiac: The Eco-Thriller  \\O\\ Is for Outlaw  \\\ntitle                                                                          \n10 Lb. Penalty                                  -0.000654           0.043983   \n14,000 Things to Be Happy About                  0.055763           0.026271   \n1984                                             0.059942          -0.002867   \n1st to Die: A Novel                              0.025906           0.068840   \n2010: Odyssey Two                                0.018456          -0.001497   \n\ntitle                            \\Surely You're Joking, Mr. Feynman!\\: Adventures of a Curious Character  \\\ntitle                                                                                                      \n10 Lb. Penalty                                                           -0.000562                         \n14,000 Things to Be Happy About                                          -0.000524                         \n1984                                                                     -0.001439                         \n1st to Die: A Novel                                                      -0.002152                         \n2010: Odyssey Two                                                        -0.000751                         \n\ntitle                            iI Paradiso Degli Orchi  stardust  \ntitle                                                               \n10 Lb. Penalty                                 -0.000570 -0.000710  \n14,000 Things to Be Happy About                -0.000532  0.044742  \n1984                                           -0.001459  0.024768  \n1st to Die: A Novel                            -0.002182  0.017635  \n2010: Odyssey Two                              -0.000762 -0.000949  \n\n[5 rows x 2102 columns]",
      "text/html": "<div>\n<style scoped>\n    .dataframe tbody tr th:only-of-type {\n        vertical-align: middle;\n    }\n\n    .dataframe tbody tr th {\n        vertical-align: top;\n    }\n\n    .dataframe thead th {\n        text-align: right;\n    }\n</style>\n<table border=\"1\" class=\"dataframe\">\n  <thead>\n    <tr style=\"text-align: right;\">\n      <th>title</th>\n      <th>10 Lb. Penalty</th>\n      <th>14,000 Things to Be Happy About</th>\n      <th>1984</th>\n      <th>1st to Die: A Novel</th>\n      <th>2010: Odyssey Two</th>\n      <th>2061: Odyssey Three</th>\n      <th>253</th>\n      <th>2nd Chance</th>\n      <th>4 Blondes</th>\n      <th>50 Simple Things You Can Do to Save the Earth</th>\n      <th>...</th>\n      <th>You Shall Know Our Velocity</th>\n      <th>You're Only Old Once! : A Book for Obsolete Children</th>\n      <th>Young Wives</th>\n      <th>Yukon Ho!</th>\n      <th>Zen and the Art of Motorcycle Maintenance: An Inquiry into Values</th>\n      <th>Zodiac: The Eco-Thriller</th>\n      <th>\\O\\ Is for Outlaw</th>\n      <th>\\Surely You're Joking, Mr. Feynman!\\: Adventures of a Curious Character</th>\n      <th>iI Paradiso Degli Orchi</th>\n      <th>stardust</th>\n    </tr>\n    <tr>\n      <th>title</th>\n      <th></th>\n      <th></th>\n      <th></th>\n      <th></th>\n      <th></th>\n      <th></th>\n      <th></th>\n      <th></th>\n      <th></th>\n      <th></th>\n      <th></th>\n      <th></th>\n      <th></th>\n      <th></th>\n      <th></th>\n      <th></th>\n      <th></th>\n      <th></th>\n      <th></th>\n      <th></th>\n      <th></th>\n    </tr>\n  </thead>\n  <tbody>\n    <tr>\n      <th>10 Lb. Penalty</th>\n      <td>1.000000</td>\n      <td>-0.000518</td>\n      <td>-0.001422</td>\n      <td>0.042179</td>\n      <td>-0.000743</td>\n      <td>0.025049</td>\n      <td>-0.000484</td>\n      <td>0.012696</td>\n      <td>-0.000965</td>\n      <td>-0.000605</td>\n      <td>...</td>\n      <td>-0.000669</td>\n      <td>-0.000483</td>\n      <td>-0.000641</td>\n      <td>-0.000621</td>\n      <td>-0.001237</td>\n      <td>-0.000654</td>\n      <td>0.043983</td>\n      <td>-0.000562</td>\n      <td>-0.000570</td>\n      <td>-0.000710</td>\n    </tr>\n    <tr>\n      <th>14,000 Things to Be Happy About</th>\n      <td>-0.000518</td>\n      <td>1.000000</td>\n      <td>-0.001326</td>\n      <td>0.038677</td>\n      <td>-0.000692</td>\n      <td>-0.000569</td>\n      <td>0.062967</td>\n      <td>0.017314</td>\n      <td>-0.000900</td>\n      <td>-0.000564</td>\n      <td>...</td>\n      <td>-0.000624</td>\n      <td>0.074173</td>\n      <td>0.046679</td>\n      <td>0.052348</td>\n      <td>0.022351</td>\n      <td>0.055763</td>\n      <td>0.026271</td>\n      <td>-0.000524</td>\n      <td>-0.000532</td>\n      <td>0.044742</td>\n    </tr>\n    <tr>\n      <th>1984</th>\n      <td>-0.001422</td>\n      <td>-0.001326</td>\n      <td>1.000000</td>\n      <td>0.013391</td>\n      <td>0.055929</td>\n      <td>-0.001561</td>\n      <td>-0.001238</td>\n      <td>-0.004230</td>\n      <td>-0.002469</td>\n      <td>-0.001549</td>\n      <td>...</td>\n      <td>0.014634</td>\n      <td>-0.001235</td>\n      <td>-0.001640</td>\n      <td>-0.001589</td>\n      <td>0.032853</td>\n      <td>0.059942</td>\n      <td>-0.002867</td>\n      <td>-0.001439</td>\n      <td>-0.001459</td>\n      <td>0.024768</td>\n    </tr>\n    <tr>\n      <th>1st to Die: A Novel</th>\n      <td>0.042179</td>\n      <td>0.038677</td>\n      <td>0.013391</td>\n      <td>1.000000</td>\n      <td>0.005347</td>\n      <td>-0.002335</td>\n      <td>0.018216</td>\n      <td>0.160733</td>\n      <td>-0.003693</td>\n      <td>0.009560</td>\n      <td>...</td>\n      <td>0.020663</td>\n      <td>0.042756</td>\n      <td>0.025804</td>\n      <td>0.025950</td>\n      <td>0.009433</td>\n      <td>0.025906</td>\n      <td>0.068840</td>\n      <td>-0.002152</td>\n      <td>-0.002182</td>\n      <td>0.017635</td>\n    </tr>\n    <tr>\n      <th>2010: Odyssey Two</th>\n      <td>-0.000743</td>\n      <td>-0.000692</td>\n      <td>0.055929</td>\n      <td>0.005347</td>\n      <td>1.000000</td>\n      <td>0.131624</td>\n      <td>-0.000646</td>\n      <td>-0.002209</td>\n      <td>-0.001290</td>\n      <td>-0.000809</td>\n      <td>...</td>\n      <td>-0.000894</td>\n      <td>-0.000645</td>\n      <td>-0.000857</td>\n      <td>-0.000830</td>\n      <td>0.032887</td>\n      <td>0.018456</td>\n      <td>-0.001497</td>\n      <td>-0.000751</td>\n      <td>-0.000762</td>\n      <td>-0.000949</td>\n    </tr>\n  </tbody>\n</table>\n<p>5 rows × 2102 columns</p>\n</div>"
     },
     "execution_count": 13,
     "metadata": {},
     "output_type": "execute_result"
    }
   ],
   "source": [
    "corr_matrix = matrix.corr(method='pearson')\n",
    "corr_matrix.head()"
   ],
   "metadata": {
    "collapsed": false,
    "pycharm": {
     "name": "#%%\n"
    }
   }
  },
  {
   "cell_type": "markdown",
   "source": [
    "Now we need functions to evaluate similarity to a particular book and a book set.\n",
    "- __get_simmilar__ function finds a row in the correlation matrix for a given book and multiplies it by the rating - 5.5. This ensures that higher rating give this row a higher weight and bad rating make it negative - resulting in recommending anticorrelated books.\n",
    "- __recommend_books__ takes an array of books + ratings and applies get_simmilar to these, resulting in a dataframe with rows equal to the number of books in the array. For all books the final score is calculated as a mean of weighted correlation coefficients. The books with the highest score are the ones recommended."
   ],
   "metadata": {
    "collapsed": false,
    "pycharm": {
     "name": "#%% md\n"
    }
   }
  },
  {
   "cell_type": "code",
   "execution_count": 14,
   "outputs": [],
   "source": [
    "def get_similar(title, rating):\n",
    "    similar_ratings = corr_matrix[title]*(rating-5.5)\n",
    "    similar_ratings = similar_ratings.sort_values(ascending=False)\n",
    "    return similar_ratings"
   ],
   "metadata": {
    "collapsed": false,
    "pycharm": {
     "name": "#%%\n"
    }
   }
  },
  {
   "cell_type": "code",
   "execution_count": 15,
   "outputs": [],
   "source": [
    "def recommend_books(user_rated_books):\n",
    "    similar_books = pd.DataFrame()\n",
    "    for book,rating in user_rated_books:\n",
    "        similar_books = pd.concat([similar_books,get_similar(book,rating).to_frame().T],ignore_index=True)\n",
    "\n",
    "    result = similar_books.mean().sort_values(ascending=False)\n",
    "    return result"
   ],
   "metadata": {
    "collapsed": false,
    "pycharm": {
     "name": "#%%\n"
    }
   }
  },
  {
   "cell_type": "markdown",
   "source": [
    "To test the recommender, let's see what a person who liked Lord of the Rings gets. Two options are tested, the user read only the Fellowship of the Ring or read the full series."
   ],
   "metadata": {
    "collapsed": false,
    "pycharm": {
     "name": "#%% md\n"
    }
   }
  },
  {
   "cell_type": "code",
   "execution_count": 16,
   "outputs": [],
   "source": [
    "first_lotr_book = [(\"The Fellowship of the Ring (The Lord of the Rings, Part 1)\",10)]\n",
    "\n",
    "all_lotr_books = [(\"The Fellowship of the Ring (The Lord of the Rings, Part 1)\",10),\n",
    "            (\"The Two Towers (The Lord of the Rings, Part 2)\", 10),\n",
    "            (\"The Return of the King (The Lord of the Rings, Part 3)\",10)]\n"
   ],
   "metadata": {
    "collapsed": false,
    "pycharm": {
     "name": "#%%\n"
    }
   }
  },
  {
   "cell_type": "code",
   "execution_count": 17,
   "outputs": [
    {
     "data": {
      "text/plain": "title\nThe Fellowship of the Ring (The Lord of the Rings, Part 1)                      4.500000\nThe Two Towers (The Lord of the Rings, Part 2)                                  1.792590\nThe Return of the King (The Lord of the Rings, Part 3)                          1.750275\nThe Hobbit : The Enchanting Prelude to The Lord of the Rings                    0.960443\nThe Magic School Bus Lost in the Solar System (Magic School Bus (Paperback))    0.439169\nQuidditch Through the Ages                                                      0.423905\nHarry Potter and the Prisoner of Azkaban (Book 3)                               0.394674\nThe Waste Lands (The Dark Tower, Book 3)                                        0.378955\nThe Drawing of the Three (The Dark Tower, Book 2)                               0.355324\nFirestarter                                                                     0.344135\nThe Tale of the Body Thief (Vampire Chronicles (Paperback))                     0.336372\nThe Awakening                                                                   0.329046\nThe Book of Questions                                                           0.325622\nHarry Potter and the Chamber of Secrets (Book 2)                                0.321715\nTalking God (Jim Chee Novels)                                                   0.321016\nMy Sergei : A Love Story                                                        0.318304\nHarry Potter and the Sorcerer's Stone (Harry Potter (Paperback))                0.296550\nMY STORY                                                                        0.295889\nThe Silmarillion                                                                0.295549\nAnne of Ingleside (Anne of Green Gables Novels (Paperback))                     0.293334\ndtype: float64"
     },
     "execution_count": 17,
     "metadata": {},
     "output_type": "execute_result"
    }
   ],
   "source": [
    "recommend_books(first_lotr_book).head(20)"
   ],
   "metadata": {
    "collapsed": false,
    "pycharm": {
     "name": "#%%\n"
    }
   }
  },
  {
   "cell_type": "code",
   "execution_count": 18,
   "outputs": [
    {
     "data": {
      "text/plain": "title\nThe Two Towers (The Lord of the Rings, Part 2)                                  2.921035\nThe Return of the King (The Lord of the Rings, Part 3)                          2.906930\nThe Fellowship of the Ring (The Lord of the Rings, Part 1)                      2.680955\nThe Hobbit : The Enchanting Prelude to The Lord of the Rings                    0.992747\nThe Silmarillion                                                                0.480326\nHarry Potter and the Prisoner of Azkaban (Book 3)                               0.393081\nThe Hobbit: or There and Back Again                                             0.375909\nFaith of the Fallen (Sword of Truth, Book 6)                                    0.352056\nCat in the Hat (I Can Read It All by Myself Beginner Books)                     0.333635\nThe Magic School Bus Lost in the Solar System (Magic School Bus (Paperback))    0.332151\nCat's Cradle                                                                    0.328912\nHouse Atreides (Dune: House Trilogy, Book 1)                                    0.325904\nAnne of Ingleside (Anne of Green Gables Novels (Paperback))                     0.325020\nHarry Potter and the Sorcerer's Stone (Book 1)                                  0.312888\nThe Waste Lands (The Dark Tower, Book 3)                                        0.309738\nThe Reptile Room (A Series of Unfortunate Events, Book 2)                       0.298986\nChapterhouse Dune (Dune Chronicles, Book 6)                                     0.288060\nClear and Present Danger (Jack Ryan Novels)                                     0.285300\nThe Postman (Bantam Classics)                                                   0.284191\nThere's A Boy in the Girl's Bathroom                                            0.282922\ndtype: float64"
     },
     "execution_count": 18,
     "metadata": {},
     "output_type": "execute_result"
    }
   ],
   "source": [
    "recommend_books(all_lotr_books).head(20)"
   ],
   "metadata": {
    "collapsed": false,
    "pycharm": {
     "name": "#%%\n"
    }
   }
  },
  {
   "cell_type": "markdown",
   "source": [
    "The Lord of the Rings fan gets the next books from the LOTR series, which seems like a good choice. Now comes the model validation. According to resources, there is no strict way how to validate the recommenders. What can be tested with our model is whether the books that would get recommended to users were well-rated by them.\n",
    "\n",
    "The idea is to make \"predictions\" for ratings in the test dataset based on the train dataset. Firstly, we filter the test dataset, so it contains only users and books that are present in the train dataset. Then we calculate the score for the book in ratings dataset and compare it with the real rating. As there are many iterations in this process, the validation is a bit slow."
   ],
   "metadata": {
    "collapsed": false,
    "pycharm": {
     "name": "#%% md\n"
    }
   }
  },
  {
   "cell_type": "code",
   "execution_count": 19,
   "outputs": [
    {
     "data": {
      "text/plain": "(778, 4)"
     },
     "execution_count": 19,
     "metadata": {},
     "output_type": "execute_result"
    }
   ],
   "source": [
    "df_test.shape"
   ],
   "metadata": {
    "collapsed": false,
    "pycharm": {
     "name": "#%%\n"
    }
   }
  },
  {
   "cell_type": "code",
   "execution_count": 20,
   "outputs": [
    {
     "data": {
      "text/plain": "(588, 4)"
     },
     "execution_count": 20,
     "metadata": {},
     "output_type": "execute_result"
    }
   ],
   "source": [
    "df_test1 = df_test[(df_test['User-ID'].isin(df_train['User-ID']))]\n",
    "df_test2 = df_test1[(df_test1['ISBN'].isin(df_train['ISBN']))]\n",
    "df_test2.shape"
   ],
   "metadata": {
    "collapsed": false,
    "pycharm": {
     "name": "#%%\n"
    }
   }
  },
  {
   "cell_type": "code",
   "execution_count": 21,
   "outputs": [],
   "source": [
    "def predict_rating(user_id,title):\n",
    "    user_ratings = []\n",
    "    user_ratings_df = df_train[df_train['User-ID'] == user_id][['title','Book-Rating']]\n",
    "    for index, row in user_ratings_df.iterrows():\n",
    "        user_ratings.append((row['title'],row['Book-Rating']))\n",
    "    return recommend_books(user_ratings)[title]"
   ],
   "metadata": {
    "collapsed": false,
    "pycharm": {
     "name": "#%%\n"
    }
   }
  },
  {
   "cell_type": "code",
   "execution_count": 22,
   "outputs": [
    {
     "name": "stderr",
     "output_type": "stream",
     "text": [
      "C:\\Users\\chess\\AppData\\Local\\Temp\\ipykernel_8532\\1417330239.py:1: SettingWithCopyWarning: \n",
      "A value is trying to be set on a copy of a slice from a DataFrame.\n",
      "Try using .loc[row_indexer,col_indexer] = value instead\n",
      "\n",
      "See the caveats in the documentation: https://pandas.pydata.org/pandas-docs/stable/user_guide/indexing.html#returning-a-view-versus-a-copy\n",
      "  df_test2['Score'] = df_test2.apply(lambda x: predict_rating(x['User-ID'], x['title']), axis=1)\n"
     ]
    },
    {
     "data": {
      "text/plain": "        User-ID        ISBN  Book-Rating  \\\n30256    163433  0142001740            8   \n286688   135265  0515132292            9   \n93398    244685  0515131229            9   \n95404    147680  0671024248            9   \n11261    228351  0060930187            8   \n...         ...         ...          ...   \n114229   229741  0439136350            8   \n11367    224249  0375760911            9   \n13723    245295  0393319296           10   \n92383      5783  0451205421            8   \n41684    254899  1400034779           10   \n\n                                                    title     Score  \n30256                             The Secret Life of Bees  0.030935  \n286688                                               Wild  0.039004  \n93398   Dance upon the Air (Three Sisters Island Trilogy)  0.092586  \n95404                                  Hearts In Atlantis  0.047893  \n11261         The Bell Jar : A Novel (Perennial Classics)  0.025522  \n...                                                   ...       ...  \n114229  Harry Potter and the Prisoner of Azkaban (Book 3)  0.068473  \n11367              The Idiot Girls' Action Adventure Club  0.041179  \n13723                                  Invisible Monsters  0.078014  \n92383                                The Door to December  0.074099  \n41684   The No. 1 Ladies' Detective Agency (Today Show...  0.005836  \n\n[588 rows x 5 columns]",
      "text/html": "<div>\n<style scoped>\n    .dataframe tbody tr th:only-of-type {\n        vertical-align: middle;\n    }\n\n    .dataframe tbody tr th {\n        vertical-align: top;\n    }\n\n    .dataframe thead th {\n        text-align: right;\n    }\n</style>\n<table border=\"1\" class=\"dataframe\">\n  <thead>\n    <tr style=\"text-align: right;\">\n      <th></th>\n      <th>User-ID</th>\n      <th>ISBN</th>\n      <th>Book-Rating</th>\n      <th>title</th>\n      <th>Score</th>\n    </tr>\n  </thead>\n  <tbody>\n    <tr>\n      <th>30256</th>\n      <td>163433</td>\n      <td>0142001740</td>\n      <td>8</td>\n      <td>The Secret Life of Bees</td>\n      <td>0.030935</td>\n    </tr>\n    <tr>\n      <th>286688</th>\n      <td>135265</td>\n      <td>0515132292</td>\n      <td>9</td>\n      <td>Wild</td>\n      <td>0.039004</td>\n    </tr>\n    <tr>\n      <th>93398</th>\n      <td>244685</td>\n      <td>0515131229</td>\n      <td>9</td>\n      <td>Dance upon the Air (Three Sisters Island Trilogy)</td>\n      <td>0.092586</td>\n    </tr>\n    <tr>\n      <th>95404</th>\n      <td>147680</td>\n      <td>0671024248</td>\n      <td>9</td>\n      <td>Hearts In Atlantis</td>\n      <td>0.047893</td>\n    </tr>\n    <tr>\n      <th>11261</th>\n      <td>228351</td>\n      <td>0060930187</td>\n      <td>8</td>\n      <td>The Bell Jar : A Novel (Perennial Classics)</td>\n      <td>0.025522</td>\n    </tr>\n    <tr>\n      <th>...</th>\n      <td>...</td>\n      <td>...</td>\n      <td>...</td>\n      <td>...</td>\n      <td>...</td>\n    </tr>\n    <tr>\n      <th>114229</th>\n      <td>229741</td>\n      <td>0439136350</td>\n      <td>8</td>\n      <td>Harry Potter and the Prisoner of Azkaban (Book 3)</td>\n      <td>0.068473</td>\n    </tr>\n    <tr>\n      <th>11367</th>\n      <td>224249</td>\n      <td>0375760911</td>\n      <td>9</td>\n      <td>The Idiot Girls' Action Adventure Club</td>\n      <td>0.041179</td>\n    </tr>\n    <tr>\n      <th>13723</th>\n      <td>245295</td>\n      <td>0393319296</td>\n      <td>10</td>\n      <td>Invisible Monsters</td>\n      <td>0.078014</td>\n    </tr>\n    <tr>\n      <th>92383</th>\n      <td>5783</td>\n      <td>0451205421</td>\n      <td>8</td>\n      <td>The Door to December</td>\n      <td>0.074099</td>\n    </tr>\n    <tr>\n      <th>41684</th>\n      <td>254899</td>\n      <td>1400034779</td>\n      <td>10</td>\n      <td>The No. 1 Ladies' Detective Agency (Today Show...</td>\n      <td>0.005836</td>\n    </tr>\n  </tbody>\n</table>\n<p>588 rows × 5 columns</p>\n</div>"
     },
     "execution_count": 22,
     "metadata": {},
     "output_type": "execute_result"
    }
   ],
   "source": [
    "df_test2['Score'] = df_test2.apply(lambda x: predict_rating(x['User-ID'], x['title']), axis=1)\n",
    "df_test2"
   ],
   "metadata": {
    "collapsed": false,
    "pycharm": {
     "name": "#%%\n"
    }
   }
  },
  {
   "cell_type": "code",
   "execution_count": 23,
   "outputs": [
    {
     "data": {
      "text/plain": "<AxesSubplot:xlabel='Score', ylabel='Book-Rating'>"
     },
     "execution_count": 23,
     "metadata": {},
     "output_type": "execute_result"
    },
    {
     "data": {
      "text/plain": "<Figure size 432x288 with 1 Axes>",
      "image/png": "[encoded data removed]"
     },
     "metadata": {
      "needs_background": "light"
     },
     "output_type": "display_data"
    }
   ],
   "source": [
    "df_test2.plot.scatter(x='Score',y='Book-Rating')"
   ],
   "metadata": {
    "collapsed": false,
    "pycharm": {
     "name": "#%%\n"
    }
   }
  },
  {
   "cell_type": "code",
   "execution_count": 24,
   "outputs": [
    {
     "data": {
      "text/plain": "(-0.1, 0.5)"
     },
     "execution_count": 24,
     "metadata": {},
     "output_type": "execute_result"
    },
    {
     "data": {
      "text/plain": "<Figure size 432x288 with 1 Axes>",
      "image/png": "[encoded data removed]"
     },
     "metadata": {
      "needs_background": "light"
     },
     "output_type": "display_data"
    }
   ],
   "source": [
    "mypplot = df_test2.plot.scatter(x='Score',y='Book-Rating')\n",
    "mypplot.set_xlim([-0.1, 0.5])"
   ],
   "metadata": {
    "collapsed": false,
    "pycharm": {
     "name": "#%%\n"
    }
   }
  },
  {
   "cell_type": "markdown",
   "source": [
    "Unfortunately, at this stage, the scoring is not scalable to the book rating, we can only look whether a high score generally leads to a higher book rating. From the scatter plot, it can be seen that in fact a higher score leads to a higher rating."
   ],
   "metadata": {
    "collapsed": false,
    "pycharm": {
     "name": "#%% md\n"
    }
   }
  },
  {
   "cell_type": "code",
   "execution_count": 24,
   "outputs": [],
   "source": [],
   "metadata": {
    "collapsed": false,
    "pycharm": {
     "name": "#%%\n"
    }
   }
  }
 ],
 "metadata": {
  "kernelspec": {
   "display_name": "Python 3",
   "language": "python",
   "name": "python3"
  },
  "language_info": {
   "codemirror_mode": {
    "name": "ipython",
    "version": 2
   },
   "file_extension": ".py",
   "mimetype": "text/x-python",
   "name": "python",
   "nbconvert_exporter": "python",
   "pygments_lexer": "ipython2",
   "version": "2.7.6"
  }
 },
 "nbformat": 4,
 "nbformat_minor": 0
}