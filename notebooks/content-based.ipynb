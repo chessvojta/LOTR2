{
 "cells": [
  {
   "cell_type": "code",
   "execution_count": 88,
   "metadata": {
    "collapsed": true,
    "pycharm": {
     "name": "#%%\n"
    }
   },
   "outputs": [],
   "source": [
    "import pandas as pd\n",
    "from sklearn.metrics.pairwise import cosine_similarity\n",
    "from sklearn.feature_extraction.text import CountVectorizer"
   ]
  },
  {
   "cell_type": "code",
   "execution_count": 89,
   "outputs": [
    {
     "data": {
      "text/plain": "                                           title  \\\n0                               The Hunger Games   \n1      Harry Potter and the Order of the Phoenix   \n2                          To Kill a Mockingbird   \n3                            Pride and Prejudice   \n4                                       Twilight   \n...                                          ...   \n52473                                  Fractured   \n52474                                    Anasazi   \n52475                                     Marked   \n52476                                Wayward Son   \n52477                        Daughter of Helaman   \n\n                                                  genres  \n0      ['Young Adult', 'Fiction', 'Dystopia', 'Fantas...  \n1      ['Fantasy', 'Young Adult', 'Fiction', 'Magic',...  \n2      ['Classics', 'Fiction', 'Historical Fiction', ...  \n3      ['Classics', 'Fiction', 'Romance', 'Historical...  \n4      ['Young Adult', 'Fantasy', 'Romance', 'Vampire...  \n...                                                  ...  \n52473  ['Vampires', 'Paranormal', 'Young Adult', 'Rom...  \n52474                         ['Mystery', 'Young Adult']  \n52475  ['Fantasy', 'Young Adult', 'Paranormal', 'Ange...  \n52476  ['Fiction', 'Mystery', 'Historical Fiction', '...  \n52477  ['Lds Fiction', 'Historical Fiction', 'Young A...  \n\n[52478 rows x 2 columns]",
      "text/html": "<div>\n<style scoped>\n    .dataframe tbody tr th:only-of-type {\n        vertical-align: middle;\n    }\n\n    .dataframe tbody tr th {\n        vertical-align: top;\n    }\n\n    .dataframe thead th {\n        text-align: right;\n    }\n</style>\n<table border=\"1\" class=\"dataframe\">\n  <thead>\n    <tr style=\"text-align: right;\">\n      <th></th>\n      <th>title</th>\n      <th>genres</th>\n    </tr>\n  </thead>\n  <tbody>\n    <tr>\n      <th>0</th>\n      <td>The Hunger Games</td>\n      <td>['Young Adult', 'Fiction', 'Dystopia', 'Fantas...</td>\n    </tr>\n    <tr>\n      <th>1</th>\n      <td>Harry Potter and the Order of the Phoenix</td>\n      <td>['Fantasy', 'Young Adult', 'Fiction', 'Magic',...</td>\n    </tr>\n    <tr>\n      <th>2</th>\n      <td>To Kill a Mockingbird</td>\n      <td>['Classics', 'Fiction', 'Historical Fiction', ...</td>\n    </tr>\n    <tr>\n      <th>3</th>\n      <td>Pride and Prejudice</td>\n      <td>['Classics', 'Fiction', 'Romance', 'Historical...</td>\n    </tr>\n    <tr>\n      <th>4</th>\n      <td>Twilight</td>\n      <td>['Young Adult', 'Fantasy', 'Romance', 'Vampire...</td>\n    </tr>\n    <tr>\n      <th>...</th>\n      <td>...</td>\n      <td>...</td>\n    </tr>\n    <tr>\n      <th>52473</th>\n      <td>Fractured</td>\n      <td>['Vampires', 'Paranormal', 'Young Adult', 'Rom...</td>\n    </tr>\n    <tr>\n      <th>52474</th>\n      <td>Anasazi</td>\n      <td>['Mystery', 'Young Adult']</td>\n    </tr>\n    <tr>\n      <th>52475</th>\n      <td>Marked</td>\n      <td>['Fantasy', 'Young Adult', 'Paranormal', 'Ange...</td>\n    </tr>\n    <tr>\n      <th>52476</th>\n      <td>Wayward Son</td>\n      <td>['Fiction', 'Mystery', 'Historical Fiction', '...</td>\n    </tr>\n    <tr>\n      <th>52477</th>\n      <td>Daughter of Helaman</td>\n      <td>['Lds Fiction', 'Historical Fiction', 'Young A...</td>\n    </tr>\n  </tbody>\n</table>\n<p>52478 rows × 2 columns</p>\n</div>"
     },
     "execution_count": 89,
     "metadata": {},
     "output_type": "execute_result"
    }
   ],
   "source": [
    "# Dataset source https://zenodo.org/record/4265096#.Ytx7lHZBy3A\n",
    "df = pd.read_csv('../data/best_books.csv')\n",
    "df = df[['title', 'genres']]\n",
    "df"
   ],
   "metadata": {
    "collapsed": false,
    "pycharm": {
     "name": "#%%\n"
    }
   }
  },
  {
   "cell_type": "code",
   "execution_count": 90,
   "outputs": [],
   "source": [
    "def remove_extra_chars(s):\n",
    "    s = s.replace(\"'\",\"\")\n",
    "    s = s.replace(\"[\",\"\")\n",
    "    s = s.replace(\"]\",\"\")\n",
    "    return s.replace(\",\",\"\")"
   ],
   "metadata": {
    "collapsed": false,
    "pycharm": {
     "name": "#%%\n"
    }
   }
  },
  {
   "cell_type": "code",
   "execution_count": 91,
   "outputs": [
    {
     "data": {
      "text/plain": "                                           title  \\\n0                               The Hunger Games   \n1      Harry Potter and the Order of the Phoenix   \n2                          To Kill a Mockingbird   \n3                            Pride and Prejudice   \n4                                       Twilight   \n...                                          ...   \n52473                                  Fractured   \n52474                                    Anasazi   \n52475                                     Marked   \n52476                                Wayward Son   \n52477                        Daughter of Helaman   \n\n                                                  genres  \n0      Young Adult Fiction Dystopia Fantasy Science F...  \n1      Fantasy Young Adult Fiction Magic Childrens Ad...  \n2      Classics Fiction Historical Fiction School Lit...  \n3      Classics Fiction Romance Historical Fiction Li...  \n4      Young Adult Fantasy Romance Vampires Fiction P...  \n...                                                  ...  \n52473  Vampires Paranormal Young Adult Romance Fantas...  \n52474                                Mystery Young Adult  \n52475  Fantasy Young Adult Paranormal Angels Romance ...  \n52476  Fiction Mystery Historical Fiction Adventure C...  \n52477  Lds Fiction Historical Fiction Young Adult Fic...  \n\n[52478 rows x 2 columns]",
      "text/html": "<div>\n<style scoped>\n    .dataframe tbody tr th:only-of-type {\n        vertical-align: middle;\n    }\n\n    .dataframe tbody tr th {\n        vertical-align: top;\n    }\n\n    .dataframe thead th {\n        text-align: right;\n    }\n</style>\n<table border=\"1\" class=\"dataframe\">\n  <thead>\n    <tr style=\"text-align: right;\">\n      <th></th>\n      <th>title</th>\n      <th>genres</th>\n    </tr>\n  </thead>\n  <tbody>\n    <tr>\n      <th>0</th>\n      <td>The Hunger Games</td>\n      <td>Young Adult Fiction Dystopia Fantasy Science F...</td>\n    </tr>\n    <tr>\n      <th>1</th>\n      <td>Harry Potter and the Order of the Phoenix</td>\n      <td>Fantasy Young Adult Fiction Magic Childrens Ad...</td>\n    </tr>\n    <tr>\n      <th>2</th>\n      <td>To Kill a Mockingbird</td>\n      <td>Classics Fiction Historical Fiction School Lit...</td>\n    </tr>\n    <tr>\n      <th>3</th>\n      <td>Pride and Prejudice</td>\n      <td>Classics Fiction Romance Historical Fiction Li...</td>\n    </tr>\n    <tr>\n      <th>4</th>\n      <td>Twilight</td>\n      <td>Young Adult Fantasy Romance Vampires Fiction P...</td>\n    </tr>\n    <tr>\n      <th>...</th>\n      <td>...</td>\n      <td>...</td>\n    </tr>\n    <tr>\n      <th>52473</th>\n      <td>Fractured</td>\n      <td>Vampires Paranormal Young Adult Romance Fantas...</td>\n    </tr>\n    <tr>\n      <th>52474</th>\n      <td>Anasazi</td>\n      <td>Mystery Young Adult</td>\n    </tr>\n    <tr>\n      <th>52475</th>\n      <td>Marked</td>\n      <td>Fantasy Young Adult Paranormal Angels Romance ...</td>\n    </tr>\n    <tr>\n      <th>52476</th>\n      <td>Wayward Son</td>\n      <td>Fiction Mystery Historical Fiction Adventure C...</td>\n    </tr>\n    <tr>\n      <th>52477</th>\n      <td>Daughter of Helaman</td>\n      <td>Lds Fiction Historical Fiction Young Adult Fic...</td>\n    </tr>\n  </tbody>\n</table>\n<p>52478 rows × 2 columns</p>\n</div>"
     },
     "execution_count": 91,
     "metadata": {},
     "output_type": "execute_result"
    }
   ],
   "source": [
    "df.genres = df.genres.apply(remove_extra_chars)\n",
    "df"
   ],
   "metadata": {
    "collapsed": false,
    "pycharm": {
     "name": "#%%\n"
    }
   }
  },
  {
   "cell_type": "code",
   "execution_count": 92,
   "outputs": [
    {
     "data": {
      "text/plain": "                                           title  \\\n0                               The Hunger Games   \n1      Harry Potter and the Order of the Phoenix   \n2                                       Twilight   \n3                                    Animal Farm   \n4                       The Chronicles of Narnia   \n...                                          ...   \n15316                              Nameless Fate   \n15317                                  Elemental   \n15318                                  Fractured   \n15319                                     Marked   \n15320                        Daughter of Helaman   \n\n                                                  genres  \n0      Young Adult Fiction Dystopia Fantasy Science F...  \n1      Fantasy Young Adult Fiction Magic Childrens Ad...  \n2      Young Adult Fantasy Romance Vampires Fiction P...  \n3      Classics Fiction Dystopia Fantasy Literature P...  \n4      Fantasy Classics Fiction Young Adult Childrens...  \n...                                                  ...  \n15316  Aliens Science Fiction Romance Erotica BDSM Fa...  \n15317  Fantasy Young Adult Angels Romance Paranormal ...  \n15318  Vampires Paranormal Young Adult Romance Fantas...  \n15319  Fantasy Young Adult Paranormal Angels Romance ...  \n15320  Lds Fiction Historical Fiction Young Adult Fic...  \n\n[15321 rows x 2 columns]",
      "text/html": "<div>\n<style scoped>\n    .dataframe tbody tr th:only-of-type {\n        vertical-align: middle;\n    }\n\n    .dataframe tbody tr th {\n        vertical-align: top;\n    }\n\n    .dataframe thead th {\n        text-align: right;\n    }\n</style>\n<table border=\"1\" class=\"dataframe\">\n  <thead>\n    <tr style=\"text-align: right;\">\n      <th></th>\n      <th>title</th>\n      <th>genres</th>\n    </tr>\n  </thead>\n  <tbody>\n    <tr>\n      <th>0</th>\n      <td>The Hunger Games</td>\n      <td>Young Adult Fiction Dystopia Fantasy Science F...</td>\n    </tr>\n    <tr>\n      <th>1</th>\n      <td>Harry Potter and the Order of the Phoenix</td>\n      <td>Fantasy Young Adult Fiction Magic Childrens Ad...</td>\n    </tr>\n    <tr>\n      <th>2</th>\n      <td>Twilight</td>\n      <td>Young Adult Fantasy Romance Vampires Fiction P...</td>\n    </tr>\n    <tr>\n      <th>3</th>\n      <td>Animal Farm</td>\n      <td>Classics Fiction Dystopia Fantasy Literature P...</td>\n    </tr>\n    <tr>\n      <th>4</th>\n      <td>The Chronicles of Narnia</td>\n      <td>Fantasy Classics Fiction Young Adult Childrens...</td>\n    </tr>\n    <tr>\n      <th>...</th>\n      <td>...</td>\n      <td>...</td>\n    </tr>\n    <tr>\n      <th>15316</th>\n      <td>Nameless Fate</td>\n      <td>Aliens Science Fiction Romance Erotica BDSM Fa...</td>\n    </tr>\n    <tr>\n      <th>15317</th>\n      <td>Elemental</td>\n      <td>Fantasy Young Adult Angels Romance Paranormal ...</td>\n    </tr>\n    <tr>\n      <th>15318</th>\n      <td>Fractured</td>\n      <td>Vampires Paranormal Young Adult Romance Fantas...</td>\n    </tr>\n    <tr>\n      <th>15319</th>\n      <td>Marked</td>\n      <td>Fantasy Young Adult Paranormal Angels Romance ...</td>\n    </tr>\n    <tr>\n      <th>15320</th>\n      <td>Daughter of Helaman</td>\n      <td>Lds Fiction Historical Fiction Young Adult Fic...</td>\n    </tr>\n  </tbody>\n</table>\n<p>15321 rows × 2 columns</p>\n</div>"
     },
     "execution_count": 92,
     "metadata": {},
     "output_type": "execute_result"
    }
   ],
   "source": [
    "df = df[df.genres.str.contains('Fantasy')]\n",
    "df.reset_index(drop=True, inplace=True)\n",
    "df"
   ],
   "metadata": {
    "collapsed": false,
    "pycharm": {
     "name": "#%%\n"
    }
   }
  },
  {
   "cell_type": "code",
   "execution_count": 93,
   "outputs": [
    {
     "data": {
      "text/plain": "array([[1.        , 0.60858062, 0.53311399, ..., 0.38533732, 0.4738791 ,\n        0.64605828],\n       [0.60858062, 1.        , 0.43259046, ..., 0.40201513, 0.43259046,\n        0.54062051],\n       [0.53311399, 0.43259046, 1.        , ..., 0.83149718, 0.89473684,\n        0.47836487],\n       ...,\n       [0.38533732, 0.40201513, 0.83149718, ..., 1.        , 0.78258558,\n        0.31118796],\n       [0.4738791 , 0.43259046, 0.89473684, ..., 0.78258558, 1.        ,\n        0.43052839],\n       [0.64605828, 0.54062051, 0.47836487, ..., 0.31118796, 0.43052839,\n        1.        ]])"
     },
     "execution_count": 93,
     "metadata": {},
     "output_type": "execute_result"
    }
   ],
   "source": [
    "cm = CountVectorizer().fit_transform(df.genres)\n",
    "cs = cosine_similarity(cm)\n",
    "cs"
   ],
   "metadata": {
    "collapsed": false,
    "pycharm": {
     "name": "#%%\n"
    }
   }
  },
  {
   "cell_type": "code",
   "execution_count": 94,
   "outputs": [],
   "source": [
    "#my_title = 'The Fellowship of the Ring'\n",
    "my_title = 'The Lord of the Rings'"
   ],
   "metadata": {
    "collapsed": false,
    "pycharm": {
     "name": "#%%\n"
    }
   }
  },
  {
   "cell_type": "code",
   "execution_count": 95,
   "outputs": [
    {
     "name": "stderr",
     "output_type": "stream",
     "text": [
      "C:\\Users\\chess\\AppData\\Local\\Temp\\ipykernel_12260\\3789167367.py:1: SettingWithCopyWarning: \n",
      "A value is trying to be set on a copy of a slice from a DataFrame.\n",
      "Try using .loc[row_indexer,col_indexer] = value instead\n",
      "\n",
      "See the caveats in the documentation: https://pandas.pydata.org/pandas-docs/stable/user_guide/indexing.html#returning-a-view-versus-a-copy\n",
      "  df['score'] = cs[df[df.title == my_title].index.to_numpy()[0]]\n"
     ]
    },
    {
     "data": {
      "text/plain": "                                                   title  \\\n1693                                The Hobbit, Part One   \n160                                The Lord of the Rings   \n72                   The Hobbit, or There and Back Again   \n5      J.R.R. Tolkien 4-Book Boxed Set: The Hobbit an...   \n5708                                Heir of Sea and Fire   \n566                                The Children of Húrin   \n255                               The Return of the King   \n280                                       The Two Towers   \n105                                     The Silmarillion   \n14329                                           Owlsight   \n1602   The Belgariad Boxed Set: Pawn of Prophecy / Qu...   \n43                            The Fellowship of the Ring   \n2645                                The Earthsea Quartet   \n13102                                        Dragonworld   \n1248                                  The Tombs of Atuan   \n1187                            The Dragonriders of Pern   \n2314                                       Riddle-Master   \n5276                                          Stormrider   \n1340                              A Song of Ice and Fire   \n5575                                 The Gathering Storm   \n\n                                                  genres     score  \n1693   Fantasy Fiction Classics Science Fiction Fanta...  1.000000  \n160    Fantasy Classics Fiction Adventure Science Fic...  1.000000  \n72     Fantasy Classics Fiction Adventure Young Adult...  0.965517  \n5      Fantasy Fiction Classics Adventure Science Fic...  0.965517  \n5708   Fantasy Fiction Science Fiction Fantasy High F...  0.965517  \n566    Fantasy Fiction Classics High Fantasy Epic Fan...  0.949289  \n255    Fantasy Fiction Classics Adventure Science Fic...  0.947514  \n280    Fantasy Fiction Classics Adventure Science Fic...  0.947514  \n105    Fantasy Fiction Classics High Fantasy Science ...  0.947514  \n14329  Fantasy Fiction Science Fiction Fantasy Magic ...  0.933852  \n1602   Fantasy Epic Fantasy Fiction High Fantasy Scie...  0.933852  \n43     Classics Adventure Science Fiction Fantasy Hig...  0.932007  \n2645   Fantasy Fiction Classics Young Adult Magic Hig...  0.931034  \n13102  Fantasy Dragons Fiction Science Fiction Fantas...  0.928477  \n1248   Fantasy Fiction Young Adult Science Fiction Fa...  0.928477  \n1187   Fantasy Science Fiction Fiction Dragons Scienc...  0.928477  \n2314   Fantasy Fiction Young Adult High Fantasy Scien...  0.923548  \n5276   Fantasy Fiction Epic Fantasy Heroic Fantasy Ad...  0.921787  \n1340   Fantasy Fiction Epic Fantasy Adventure Science...  0.915844  \n5575   Fantasy Fiction Epic Fantasy Science Fiction F...  0.915386  ",
      "text/html": "<div>\n<style scoped>\n    .dataframe tbody tr th:only-of-type {\n        vertical-align: middle;\n    }\n\n    .dataframe tbody tr th {\n        vertical-align: top;\n    }\n\n    .dataframe thead th {\n        text-align: right;\n    }\n</style>\n<table border=\"1\" class=\"dataframe\">\n  <thead>\n    <tr style=\"text-align: right;\">\n      <th></th>\n      <th>title</th>\n      <th>genres</th>\n      <th>score</th>\n    </tr>\n  </thead>\n  <tbody>\n    <tr>\n      <th>1693</th>\n      <td>The Hobbit, Part One</td>\n      <td>Fantasy Fiction Classics Science Fiction Fanta...</td>\n      <td>1.000000</td>\n    </tr>\n    <tr>\n      <th>160</th>\n      <td>The Lord of the Rings</td>\n      <td>Fantasy Classics Fiction Adventure Science Fic...</td>\n      <td>1.000000</td>\n    </tr>\n    <tr>\n      <th>72</th>\n      <td>The Hobbit, or There and Back Again</td>\n      <td>Fantasy Classics Fiction Adventure Young Adult...</td>\n      <td>0.965517</td>\n    </tr>\n    <tr>\n      <th>5</th>\n      <td>J.R.R. Tolkien 4-Book Boxed Set: The Hobbit an...</td>\n      <td>Fantasy Fiction Classics Adventure Science Fic...</td>\n      <td>0.965517</td>\n    </tr>\n    <tr>\n      <th>5708</th>\n      <td>Heir of Sea and Fire</td>\n      <td>Fantasy Fiction Science Fiction Fantasy High F...</td>\n      <td>0.965517</td>\n    </tr>\n    <tr>\n      <th>566</th>\n      <td>The Children of Húrin</td>\n      <td>Fantasy Fiction Classics High Fantasy Epic Fan...</td>\n      <td>0.949289</td>\n    </tr>\n    <tr>\n      <th>255</th>\n      <td>The Return of the King</td>\n      <td>Fantasy Fiction Classics Adventure Science Fic...</td>\n      <td>0.947514</td>\n    </tr>\n    <tr>\n      <th>280</th>\n      <td>The Two Towers</td>\n      <td>Fantasy Fiction Classics Adventure Science Fic...</td>\n      <td>0.947514</td>\n    </tr>\n    <tr>\n      <th>105</th>\n      <td>The Silmarillion</td>\n      <td>Fantasy Fiction Classics High Fantasy Science ...</td>\n      <td>0.947514</td>\n    </tr>\n    <tr>\n      <th>14329</th>\n      <td>Owlsight</td>\n      <td>Fantasy Fiction Science Fiction Fantasy Magic ...</td>\n      <td>0.933852</td>\n    </tr>\n    <tr>\n      <th>1602</th>\n      <td>The Belgariad Boxed Set: Pawn of Prophecy / Qu...</td>\n      <td>Fantasy Epic Fantasy Fiction High Fantasy Scie...</td>\n      <td>0.933852</td>\n    </tr>\n    <tr>\n      <th>43</th>\n      <td>The Fellowship of the Ring</td>\n      <td>Classics Adventure Science Fiction Fantasy Hig...</td>\n      <td>0.932007</td>\n    </tr>\n    <tr>\n      <th>2645</th>\n      <td>The Earthsea Quartet</td>\n      <td>Fantasy Fiction Classics Young Adult Magic Hig...</td>\n      <td>0.931034</td>\n    </tr>\n    <tr>\n      <th>13102</th>\n      <td>Dragonworld</td>\n      <td>Fantasy Dragons Fiction Science Fiction Fantas...</td>\n      <td>0.928477</td>\n    </tr>\n    <tr>\n      <th>1248</th>\n      <td>The Tombs of Atuan</td>\n      <td>Fantasy Fiction Young Adult Science Fiction Fa...</td>\n      <td>0.928477</td>\n    </tr>\n    <tr>\n      <th>1187</th>\n      <td>The Dragonriders of Pern</td>\n      <td>Fantasy Science Fiction Fiction Dragons Scienc...</td>\n      <td>0.928477</td>\n    </tr>\n    <tr>\n      <th>2314</th>\n      <td>Riddle-Master</td>\n      <td>Fantasy Fiction Young Adult High Fantasy Scien...</td>\n      <td>0.923548</td>\n    </tr>\n    <tr>\n      <th>5276</th>\n      <td>Stormrider</td>\n      <td>Fantasy Fiction Epic Fantasy Heroic Fantasy Ad...</td>\n      <td>0.921787</td>\n    </tr>\n    <tr>\n      <th>1340</th>\n      <td>A Song of Ice and Fire</td>\n      <td>Fantasy Fiction Epic Fantasy Adventure Science...</td>\n      <td>0.915844</td>\n    </tr>\n    <tr>\n      <th>5575</th>\n      <td>The Gathering Storm</td>\n      <td>Fantasy Fiction Epic Fantasy Science Fiction F...</td>\n      <td>0.915386</td>\n    </tr>\n  </tbody>\n</table>\n</div>"
     },
     "execution_count": 95,
     "metadata": {},
     "output_type": "execute_result"
    }
   ],
   "source": [
    "df['score'] = cs[df[df.title == my_title].index.to_numpy()[0]]\n",
    "df.sort_values(by='score', ascending=False).head(20)"
   ],
   "metadata": {
    "collapsed": false,
    "pycharm": {
     "name": "#%%\n"
    }
   }
  }
 ],
 "metadata": {
  "kernelspec": {
   "display_name": "Python 3",
   "language": "python",
   "name": "python3"
  },
  "language_info": {
   "codemirror_mode": {
    "name": "ipython",
    "version": 2
   },
   "file_extension": ".py",
   "mimetype": "text/x-python",
   "name": "python",
   "nbconvert_exporter": "python",
   "pygments_lexer": "ipython2",
   "version": "2.7.6"
  }
 },
 "nbformat": 4,
 "nbformat_minor": 0
}